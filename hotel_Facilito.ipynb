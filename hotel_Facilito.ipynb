{
  "cells": [
    {
      "cell_type": "markdown",
      "metadata": {
        "id": "view-in-github",
        "colab_type": "text"
      },
      "source": [
        "<a href=\"https://colab.research.google.com/github/AngelTroncoso/Hotel_Facilito/blob/main/hotel_Facilito.ipynb\" target=\"_parent\"><img src=\"https://colab.research.google.com/assets/colab-badge.svg\" alt=\"Open In Colab\"/></a>"
      ]
    },
    {
      "cell_type": "markdown",
      "id": "e46f413f-d456-4e02-8968-5fd4093e904e",
      "metadata": {
        "id": "e46f413f-d456-4e02-8968-5fd4093e904e"
      },
      "source": [
        "# Hotel Facilito\n",
        "\n",
        "## ¿Quién va a cancelar?\n",
        "\n",
        "*Hotel Facilito* se está preparando para las vacaciones de verano, sin embargo, les preocupa que muchos de sus clientes cancelan de ultima hora, dejándoles con habitaciones vacías – sucede que algunos clientes simplemente no se presentan y, a pesar de que a veces se cobra una cuota de reservación, la gran mayoría de las ganancias se obtiene cuando los huéspedes pagan el resto al ocupar la habitación.\n",
        "\n",
        "Usando sus datos, les gustaría que les ayudaras a identificar a aquellos clientes que tienen más posibilidad de cancelar ya que les gustaría darles seguimiento para que si en caso de que requieran cancelar, se haga con la mayor antelación posible.\n",
        "\n",
        "![](./header.png)"
      ]
    },
    {
      "cell_type": "markdown",
      "id": "9490fd5c-8a08-4b38-9427-b1c7dfe37556",
      "metadata": {
        "id": "9490fd5c-8a08-4b38-9427-b1c7dfe37556"
      },
      "source": [
        "## Datos\n",
        "\n",
        "*Hoteles Facilito* tiene dos sucursales, uno ubicado en la capital del estado, \"City Hotel\" y otro en una comunidad cercana a la costa, \"Resort Hotel\".\n",
        "\n",
        "Los datos que te ha enviado están en formato CSV, en donde cada línea representa una reservación con los siguientes atributos:\n",
        "\n",
        "  - `hotel`: Hotel en el que se hizo la reserva.\n",
        "  - `is_canceled`: Indica si la reserva fue cancelada o no.\n",
        "  - `lead_time`: Número de días que transcurrieron entre la fecha de ingreso de la reserva en el PMS y la fecha de llegada.\n",
        "  - `arrival_date_year`: Año de la fecha de llegada.\n",
        "  - `arrival_date_month`: Mes de la fecha de llegada con 12 categorías: \"Enero\" a \"Diciembre\".\n",
        "  - `arrival_date_week_number`: Número de semana de la fecha de llegada.\n",
        "  - `arrival_date_day_of_month`: Día del mes de la fecha de llegada.\n",
        "  - `stays_in_weekend_nights`: Número de noches de fin de semana (sábado o domingo) que el huésped se quedó o reservó para quedarse en el hotel.\n",
        "  - `stays_in_week_nights`: Número de noches de semana (lunes a viernes) que el huésped se quedó o reservó para quedarse en el hotel.\n",
        "  - `adults`: Número de adultos.\n",
        "  - `children`: Número de niños.\n",
        "  - `babies`: Número de bebés.\n",
        "  - `meal`: Tipo de comida reservada. Valor categórico.\n",
        "  - `country`: País de origen. Las categorías se representan según ISO 3155–3:2013.\n",
        "  - `market_segment`: Designación del segmento de mercado.\n",
        "  - `distribution_channel`: Canal de distribución de la reserva.\n",
        "  - `is_repeated_guest`: Valor que indica si el nombre de la reserva era de un huésped recurrente (1) o no (0).\n",
        "  - `previous_cancellations`: Número de reservas anteriores que fueron canceladas por el cliente antes de la reserva actual.\n",
        "  - `previous_bookings_not_canceled`: Número de reservas anteriores que no fueron canceladas por el cliente antes de la reserva actual.\n",
        "  - `reserved_room_type`: Código del tipo de habitación reservada. El código se presenta en lugar de la designación por razones de anonimato.\n",
        "  - `assigned_room_type`: Código del tipo de habitación asignada a la reserva. A veces, el tipo de habitación asignada difiere del tipo de habitación reservada debido a razones operativas del hotel (por ejemplo, sobreventa) o por solicitud del cliente. El código se presenta en lugar de la designación por razones de anonimato.\n",
        "  - `booking_changes`: Número de cambios/modificaciones realizados a la reserva desde el momento en que se ingresó en el PMS hasta el momento del check-in o la cancelación.\n",
        "  - `deposit_type`: Indicación de si el cliente hizo un depósito para garantizar la reserva.\n",
        "  - `agent`: ID de la agencia de viajes que realizó la reserva.\n",
        "  - `company`: ID de la empresa/entidad que realizó la reserva o es responsable de pagar la reserva.\n",
        "  - `days_in_waiting_list`: Número de días que la reserva estuvo en lista de espera antes de ser confirmada al cliente.\n",
        "  - `customer_type`: Tipo de reserva.\n",
        "  - `adr`: Tarifa diaria promedio.\n",
        "  - `required_car_parking_spaces`: Número de espacios de estacionamiento requeridos por el cliente.\n",
        "  - `total_of_special_requests`: Número de solicitudes especiales realizadas por el cliente (por ejemplo, cama doble o piso alto).\n",
        "  - `reservation_status`: Último estado de la reserva.\n",
        "  - `reservation_status_date`: Fecha en que se estableció el último estado.\n",
        "  - `name`: Nombre del cliente.\n",
        "  - `email`: Correo electrónico del cliente.\n",
        "  - `phone`: Teléfono del cliente.\n",
        "  - `credit_card`: Últimos cuatro dígitos de la tarjeta de crédito del cliente.\n",
        "\n",
        "Los datos que te ha enviado la compañía están en el archivo `hotel_bookings_training.csv`."
      ]
    },
    {
      "cell_type": "markdown",
      "id": "45ee9c95-a3a9-41f9-a7ef-2084630160a1",
      "metadata": {
        "id": "45ee9c95-a3a9-41f9-a7ef-2084630160a1"
      },
      "source": [
        "> En realidad los datos provienen de [este dataset de Kaggle](https://www.kaggle.com/datasets/mojtaba142/hotel-booking), y puedes consultar más sobre el origen de los datos [en esta publicación](https://www.sciencedirect.com/science/article/pii/S2352340918315191)"
      ]
    },
    {
      "cell_type": "markdown",
      "id": "bb0790dd-67e7-4766-ae03-6f8ce87e28f8",
      "metadata": {
        "id": "bb0790dd-67e7-4766-ae03-6f8ce87e28f8"
      },
      "source": [
        "## ¿Qué métricas podemos medir?\n",
        "\n",
        "¿Accuracy? pero, y ¿si nos interesa otra cosa?\n",
        "\n",
        "Nos interesa hallar a TODAS las personas que potencialmente pueden cancelar, y la verdad es que a nuestros clientes no les molesta mucho si les llamamos para confirmar su reserva."
      ]
    },
    {
      "cell_type": "markdown",
      "id": "2ae43734-15d6-46ac-8b05-33738bd6ed0d",
      "metadata": {
        "id": "2ae43734-15d6-46ac-8b05-33738bd6ed0d"
      },
      "source": [
        "## Ejercicio"
      ]
    },
    {
      "cell_type": "code",
      "execution_count": 1,
      "id": "775a79d5-98d7-488f-8bc5-d305056bec61",
      "metadata": {
        "tags": [],
        "id": "775a79d5-98d7-488f-8bc5-d305056bec61"
      },
      "outputs": [],
      "source": [
        "import pandas as pd"
      ]
    },
    {
      "cell_type": "code",
      "execution_count": 2,
      "id": "2f487aee-60f9-41ea-a88f-04a6858913c9",
      "metadata": {
        "tags": [],
        "id": "2f487aee-60f9-41ea-a88f-04a6858913c9"
      },
      "outputs": [],
      "source": [
        "url = 'https://raw.githubusercontent.com/fferegrino/cf-ml/refs/heads/main/hotel-facilito/hotel_bookings_training.csv'#crudo\n",
        "hotel_bookings = pd.read_csv(url)"
      ]
    },
    {
      "cell_type": "code",
      "execution_count": 3,
      "id": "83307110-0e84-4589-bfa5-afd6121ef5ab",
      "metadata": {
        "tags": [],
        "id": "83307110-0e84-4589-bfa5-afd6121ef5ab"
      },
      "outputs": [],
      "source": [
        "from sklearn.model_selection import train_test_split"
      ]
    },
    {
      "cell_type": "code",
      "execution_count": 4,
      "id": "1aeb405e-1dab-41fb-b735-39a6f0c15d39",
      "metadata": {
        "tags": [],
        "id": "1aeb405e-1dab-41fb-b735-39a6f0c15d39",
        "outputId": "05cfb0bb-d8e4-4139-f50c-92096d54996a",
        "colab": {
          "base_uri": "https://localhost:8080/"
        }
      },
      "outputs": [
        {
          "output_type": "stream",
          "name": "stdout",
          "text": [
            "<class 'pandas.core.frame.DataFrame'>\n",
            "RangeIndex: 119190 entries, 0 to 119189\n",
            "Data columns (total 36 columns):\n",
            " #   Column                          Non-Null Count   Dtype  \n",
            "---  ------                          --------------   -----  \n",
            " 0   hotel                           119190 non-null  object \n",
            " 1   is_canceled                     119190 non-null  int64  \n",
            " 2   lead_time                       119190 non-null  int64  \n",
            " 3   arrival_date_year               119190 non-null  int64  \n",
            " 4   arrival_date_month              119190 non-null  object \n",
            " 5   arrival_date_week_number        119190 non-null  int64  \n",
            " 6   arrival_date_day_of_month       119190 non-null  int64  \n",
            " 7   stays_in_weekend_nights         119190 non-null  int64  \n",
            " 8   stays_in_week_nights            119190 non-null  int64  \n",
            " 9   adults                          119190 non-null  int64  \n",
            " 10  children                        119186 non-null  float64\n",
            " 11  babies                          119190 non-null  int64  \n",
            " 12  meal                            119190 non-null  object \n",
            " 13  country                         118703 non-null  object \n",
            " 14  market_segment                  119190 non-null  object \n",
            " 15  distribution_channel            119190 non-null  object \n",
            " 16  is_repeated_guest               119190 non-null  int64  \n",
            " 17  previous_cancellations          119190 non-null  int64  \n",
            " 18  previous_bookings_not_canceled  119190 non-null  int64  \n",
            " 19  reserved_room_type              119190 non-null  object \n",
            " 20  assigned_room_type              119190 non-null  object \n",
            " 21  booking_changes                 119190 non-null  int64  \n",
            " 22  deposit_type                    119190 non-null  object \n",
            " 23  agent                           102875 non-null  float64\n",
            " 24  company                         6788 non-null    float64\n",
            " 25  days_in_waiting_list            119190 non-null  int64  \n",
            " 26  customer_type                   119190 non-null  object \n",
            " 27  adr                             119190 non-null  float64\n",
            " 28  required_car_parking_spaces     119190 non-null  int64  \n",
            " 29  total_of_special_requests       119190 non-null  int64  \n",
            " 30  reservation_status              119190 non-null  object \n",
            " 31  reservation_status_date         119190 non-null  object \n",
            " 32  name                            119190 non-null  object \n",
            " 33  email                           119190 non-null  object \n",
            " 34  phone-number                    119190 non-null  object \n",
            " 35  credit_card                     119190 non-null  object \n",
            "dtypes: float64(4), int64(16), object(16)\n",
            "memory usage: 32.7+ MB\n"
          ]
        }
      ],
      "source": [
        "hotel_bookings.info()"
      ]
    },
    {
      "cell_type": "markdown",
      "id": "1e35df7b-f4ee-406e-8d97-a1841abfe1f6",
      "metadata": {
        "id": "1e35df7b-f4ee-406e-8d97-a1841abfe1f6"
      },
      "source": [
        "### Sobre los datos personales...\n",
        "\n",
        "Nos deshacemos de los datos personales – que además carecen de utilidad por ser únicos:"
      ]
    },
    {
      "cell_type": "code",
      "execution_count": 5,
      "id": "13a89452-0256-40d8-b217-ddba1d625794",
      "metadata": {
        "id": "13a89452-0256-40d8-b217-ddba1d625794"
      },
      "outputs": [],
      "source": [
        "# Remove personal information of customers\n",
        "hotel_bookings = hotel_bookings.drop(['name', 'email', 'phone-number', 'credit_card'], axis=1)"
      ]
    },
    {
      "cell_type": "code",
      "execution_count": 8,
      "id": "c2608f86-3495-4998-a9e2-f92897049450",
      "metadata": {
        "tags": [],
        "id": "c2608f86-3495-4998-a9e2-f92897049450",
        "outputId": "d3651a03-2e8c-4400-920a-46046feb0371",
        "colab": {
          "base_uri": "https://localhost:8080/",
          "height": 585
        }
      },
      "outputs": [
        {
          "output_type": "execute_result",
          "data": {
            "text/plain": [
              "               hotel  is_canceled  lead_time  arrival_date_year  \\\n",
              "74708     City Hotel            1        468               2017   \n",
              "21928     City Hotel            0         96               2017   \n",
              "88581   Resort Hotel            0         67               2017   \n",
              "74017     City Hotel            1        207               2015   \n",
              "84375     City Hotel            1          6               2015   \n",
              "113841    City Hotel            0        175               2017   \n",
              "431     Resort Hotel            1        159               2017   \n",
              "19118     City Hotel            0         17               2016   \n",
              "42288     City Hotel            1         59               2016   \n",
              "95721     City Hotel            1         99               2016   \n",
              "\n",
              "       arrival_date_month  arrival_date_week_number  \\\n",
              "74708                July                        30   \n",
              "21928                 May                        18   \n",
              "88581            February                         5   \n",
              "74017           September                        40   \n",
              "84375           September                        37   \n",
              "113841             August                        32   \n",
              "431                  July                        27   \n",
              "19118               March                        12   \n",
              "42288               April                        17   \n",
              "95721            February                         8   \n",
              "\n",
              "        arrival_date_day_of_month  stays_in_weekend_nights  \\\n",
              "74708                          29                        2   \n",
              "21928                           3                        0   \n",
              "88581                           3                        0   \n",
              "74017                          29                        0   \n",
              "84375                          10                        0   \n",
              "113841                          8                        0   \n",
              "431                             2                        2   \n",
              "19118                          17                        0   \n",
              "42288                          22                        2   \n",
              "95721                          19                        0   \n",
              "\n",
              "        stays_in_week_nights  adults  ...  deposit_type  agent company  \\\n",
              "74708                      1       2  ...    No Deposit  229.0     NaN   \n",
              "21928                      3       2  ...    No Deposit    9.0     NaN   \n",
              "88581                      1       2  ...    No Deposit  240.0     NaN   \n",
              "74017                      2       2  ...    No Deposit   20.0     NaN   \n",
              "84375                      1       2  ...    No Deposit    NaN     NaN   \n",
              "113841                     3       2  ...    No Deposit    9.0     NaN   \n",
              "431                        2       2  ...    No Deposit  410.0     NaN   \n",
              "19118                      2       2  ...    No Deposit  174.0     NaN   \n",
              "42288                      2       2  ...    No Deposit    9.0     NaN   \n",
              "95721                      1       2  ...    No Deposit    NaN    67.0   \n",
              "\n",
              "       days_in_waiting_list    customer_type     adr  \\\n",
              "74708                     0  Transient-Party  112.67   \n",
              "21928                     0        Transient  108.00   \n",
              "88581                     0  Transient-Party   52.00   \n",
              "74017                     0        Transient   48.00   \n",
              "84375                     0        Transient  111.60   \n",
              "113841                    0        Transient  148.50   \n",
              "431                       0        Transient   70.20   \n",
              "19118                     0  Transient-Party   80.00   \n",
              "42288                     0        Transient  112.20   \n",
              "95721                     0  Transient-Party   80.00   \n",
              "\n",
              "        required_car_parking_spaces  total_of_special_requests  \\\n",
              "74708                             0                          0   \n",
              "21928                             0                          1   \n",
              "88581                             0                          3   \n",
              "74017                             0                          0   \n",
              "84375                             0                          0   \n",
              "113841                            0                          0   \n",
              "431                               0                          0   \n",
              "19118                             0                          1   \n",
              "42288                             0                          0   \n",
              "95721                             0                          0   \n",
              "\n",
              "        reservation_status reservation_status_date  \n",
              "74708             Canceled              2017-07-04  \n",
              "21928            Check-Out              2017-05-06  \n",
              "88581            Check-Out              2017-02-04  \n",
              "74017             Canceled              2015-07-23  \n",
              "84375             Canceled              2015-09-09  \n",
              "113841           Check-Out              2017-08-11  \n",
              "431               Canceled              2017-01-24  \n",
              "19118            Check-Out              2016-03-19  \n",
              "42288             Canceled              2016-02-24  \n",
              "95721             Canceled              2015-12-22  \n",
              "\n",
              "[10 rows x 32 columns]"
            ],
            "text/html": [
              "\n",
              "  <div id=\"df-43a7c917-91fc-4b72-ab80-53eaa9583aca\" class=\"colab-df-container\">\n",
              "    <div>\n",
              "<style scoped>\n",
              "    .dataframe tbody tr th:only-of-type {\n",
              "        vertical-align: middle;\n",
              "    }\n",
              "\n",
              "    .dataframe tbody tr th {\n",
              "        vertical-align: top;\n",
              "    }\n",
              "\n",
              "    .dataframe thead th {\n",
              "        text-align: right;\n",
              "    }\n",
              "</style>\n",
              "<table border=\"1\" class=\"dataframe\">\n",
              "  <thead>\n",
              "    <tr style=\"text-align: right;\">\n",
              "      <th></th>\n",
              "      <th>hotel</th>\n",
              "      <th>is_canceled</th>\n",
              "      <th>lead_time</th>\n",
              "      <th>arrival_date_year</th>\n",
              "      <th>arrival_date_month</th>\n",
              "      <th>arrival_date_week_number</th>\n",
              "      <th>arrival_date_day_of_month</th>\n",
              "      <th>stays_in_weekend_nights</th>\n",
              "      <th>stays_in_week_nights</th>\n",
              "      <th>adults</th>\n",
              "      <th>...</th>\n",
              "      <th>deposit_type</th>\n",
              "      <th>agent</th>\n",
              "      <th>company</th>\n",
              "      <th>days_in_waiting_list</th>\n",
              "      <th>customer_type</th>\n",
              "      <th>adr</th>\n",
              "      <th>required_car_parking_spaces</th>\n",
              "      <th>total_of_special_requests</th>\n",
              "      <th>reservation_status</th>\n",
              "      <th>reservation_status_date</th>\n",
              "    </tr>\n",
              "  </thead>\n",
              "  <tbody>\n",
              "    <tr>\n",
              "      <th>74708</th>\n",
              "      <td>City Hotel</td>\n",
              "      <td>1</td>\n",
              "      <td>468</td>\n",
              "      <td>2017</td>\n",
              "      <td>July</td>\n",
              "      <td>30</td>\n",
              "      <td>29</td>\n",
              "      <td>2</td>\n",
              "      <td>1</td>\n",
              "      <td>2</td>\n",
              "      <td>...</td>\n",
              "      <td>No Deposit</td>\n",
              "      <td>229.0</td>\n",
              "      <td>NaN</td>\n",
              "      <td>0</td>\n",
              "      <td>Transient-Party</td>\n",
              "      <td>112.67</td>\n",
              "      <td>0</td>\n",
              "      <td>0</td>\n",
              "      <td>Canceled</td>\n",
              "      <td>2017-07-04</td>\n",
              "    </tr>\n",
              "    <tr>\n",
              "      <th>21928</th>\n",
              "      <td>City Hotel</td>\n",
              "      <td>0</td>\n",
              "      <td>96</td>\n",
              "      <td>2017</td>\n",
              "      <td>May</td>\n",
              "      <td>18</td>\n",
              "      <td>3</td>\n",
              "      <td>0</td>\n",
              "      <td>3</td>\n",
              "      <td>2</td>\n",
              "      <td>...</td>\n",
              "      <td>No Deposit</td>\n",
              "      <td>9.0</td>\n",
              "      <td>NaN</td>\n",
              "      <td>0</td>\n",
              "      <td>Transient</td>\n",
              "      <td>108.00</td>\n",
              "      <td>0</td>\n",
              "      <td>1</td>\n",
              "      <td>Check-Out</td>\n",
              "      <td>2017-05-06</td>\n",
              "    </tr>\n",
              "    <tr>\n",
              "      <th>88581</th>\n",
              "      <td>Resort Hotel</td>\n",
              "      <td>0</td>\n",
              "      <td>67</td>\n",
              "      <td>2017</td>\n",
              "      <td>February</td>\n",
              "      <td>5</td>\n",
              "      <td>3</td>\n",
              "      <td>0</td>\n",
              "      <td>1</td>\n",
              "      <td>2</td>\n",
              "      <td>...</td>\n",
              "      <td>No Deposit</td>\n",
              "      <td>240.0</td>\n",
              "      <td>NaN</td>\n",
              "      <td>0</td>\n",
              "      <td>Transient-Party</td>\n",
              "      <td>52.00</td>\n",
              "      <td>0</td>\n",
              "      <td>3</td>\n",
              "      <td>Check-Out</td>\n",
              "      <td>2017-02-04</td>\n",
              "    </tr>\n",
              "    <tr>\n",
              "      <th>74017</th>\n",
              "      <td>City Hotel</td>\n",
              "      <td>1</td>\n",
              "      <td>207</td>\n",
              "      <td>2015</td>\n",
              "      <td>September</td>\n",
              "      <td>40</td>\n",
              "      <td>29</td>\n",
              "      <td>0</td>\n",
              "      <td>2</td>\n",
              "      <td>2</td>\n",
              "      <td>...</td>\n",
              "      <td>No Deposit</td>\n",
              "      <td>20.0</td>\n",
              "      <td>NaN</td>\n",
              "      <td>0</td>\n",
              "      <td>Transient</td>\n",
              "      <td>48.00</td>\n",
              "      <td>0</td>\n",
              "      <td>0</td>\n",
              "      <td>Canceled</td>\n",
              "      <td>2015-07-23</td>\n",
              "    </tr>\n",
              "    <tr>\n",
              "      <th>84375</th>\n",
              "      <td>City Hotel</td>\n",
              "      <td>1</td>\n",
              "      <td>6</td>\n",
              "      <td>2015</td>\n",
              "      <td>September</td>\n",
              "      <td>37</td>\n",
              "      <td>10</td>\n",
              "      <td>0</td>\n",
              "      <td>1</td>\n",
              "      <td>2</td>\n",
              "      <td>...</td>\n",
              "      <td>No Deposit</td>\n",
              "      <td>NaN</td>\n",
              "      <td>NaN</td>\n",
              "      <td>0</td>\n",
              "      <td>Transient</td>\n",
              "      <td>111.60</td>\n",
              "      <td>0</td>\n",
              "      <td>0</td>\n",
              "      <td>Canceled</td>\n",
              "      <td>2015-09-09</td>\n",
              "    </tr>\n",
              "    <tr>\n",
              "      <th>113841</th>\n",
              "      <td>City Hotel</td>\n",
              "      <td>0</td>\n",
              "      <td>175</td>\n",
              "      <td>2017</td>\n",
              "      <td>August</td>\n",
              "      <td>32</td>\n",
              "      <td>8</td>\n",
              "      <td>0</td>\n",
              "      <td>3</td>\n",
              "      <td>2</td>\n",
              "      <td>...</td>\n",
              "      <td>No Deposit</td>\n",
              "      <td>9.0</td>\n",
              "      <td>NaN</td>\n",
              "      <td>0</td>\n",
              "      <td>Transient</td>\n",
              "      <td>148.50</td>\n",
              "      <td>0</td>\n",
              "      <td>0</td>\n",
              "      <td>Check-Out</td>\n",
              "      <td>2017-08-11</td>\n",
              "    </tr>\n",
              "    <tr>\n",
              "      <th>431</th>\n",
              "      <td>Resort Hotel</td>\n",
              "      <td>1</td>\n",
              "      <td>159</td>\n",
              "      <td>2017</td>\n",
              "      <td>July</td>\n",
              "      <td>27</td>\n",
              "      <td>2</td>\n",
              "      <td>2</td>\n",
              "      <td>2</td>\n",
              "      <td>2</td>\n",
              "      <td>...</td>\n",
              "      <td>No Deposit</td>\n",
              "      <td>410.0</td>\n",
              "      <td>NaN</td>\n",
              "      <td>0</td>\n",
              "      <td>Transient</td>\n",
              "      <td>70.20</td>\n",
              "      <td>0</td>\n",
              "      <td>0</td>\n",
              "      <td>Canceled</td>\n",
              "      <td>2017-01-24</td>\n",
              "    </tr>\n",
              "    <tr>\n",
              "      <th>19118</th>\n",
              "      <td>City Hotel</td>\n",
              "      <td>0</td>\n",
              "      <td>17</td>\n",
              "      <td>2016</td>\n",
              "      <td>March</td>\n",
              "      <td>12</td>\n",
              "      <td>17</td>\n",
              "      <td>0</td>\n",
              "      <td>2</td>\n",
              "      <td>2</td>\n",
              "      <td>...</td>\n",
              "      <td>No Deposit</td>\n",
              "      <td>174.0</td>\n",
              "      <td>NaN</td>\n",
              "      <td>0</td>\n",
              "      <td>Transient-Party</td>\n",
              "      <td>80.00</td>\n",
              "      <td>0</td>\n",
              "      <td>1</td>\n",
              "      <td>Check-Out</td>\n",
              "      <td>2016-03-19</td>\n",
              "    </tr>\n",
              "    <tr>\n",
              "      <th>42288</th>\n",
              "      <td>City Hotel</td>\n",
              "      <td>1</td>\n",
              "      <td>59</td>\n",
              "      <td>2016</td>\n",
              "      <td>April</td>\n",
              "      <td>17</td>\n",
              "      <td>22</td>\n",
              "      <td>2</td>\n",
              "      <td>2</td>\n",
              "      <td>2</td>\n",
              "      <td>...</td>\n",
              "      <td>No Deposit</td>\n",
              "      <td>9.0</td>\n",
              "      <td>NaN</td>\n",
              "      <td>0</td>\n",
              "      <td>Transient</td>\n",
              "      <td>112.20</td>\n",
              "      <td>0</td>\n",
              "      <td>0</td>\n",
              "      <td>Canceled</td>\n",
              "      <td>2016-02-24</td>\n",
              "    </tr>\n",
              "    <tr>\n",
              "      <th>95721</th>\n",
              "      <td>City Hotel</td>\n",
              "      <td>1</td>\n",
              "      <td>99</td>\n",
              "      <td>2016</td>\n",
              "      <td>February</td>\n",
              "      <td>8</td>\n",
              "      <td>19</td>\n",
              "      <td>0</td>\n",
              "      <td>1</td>\n",
              "      <td>2</td>\n",
              "      <td>...</td>\n",
              "      <td>No Deposit</td>\n",
              "      <td>NaN</td>\n",
              "      <td>67.0</td>\n",
              "      <td>0</td>\n",
              "      <td>Transient-Party</td>\n",
              "      <td>80.00</td>\n",
              "      <td>0</td>\n",
              "      <td>0</td>\n",
              "      <td>Canceled</td>\n",
              "      <td>2015-12-22</td>\n",
              "    </tr>\n",
              "  </tbody>\n",
              "</table>\n",
              "<p>10 rows × 32 columns</p>\n",
              "</div>\n",
              "    <div class=\"colab-df-buttons\">\n",
              "\n",
              "  <div class=\"colab-df-container\">\n",
              "    <button class=\"colab-df-convert\" onclick=\"convertToInteractive('df-43a7c917-91fc-4b72-ab80-53eaa9583aca')\"\n",
              "            title=\"Convert this dataframe to an interactive table.\"\n",
              "            style=\"display:none;\">\n",
              "\n",
              "  <svg xmlns=\"http://www.w3.org/2000/svg\" height=\"24px\" viewBox=\"0 -960 960 960\">\n",
              "    <path d=\"M120-120v-720h720v720H120Zm60-500h600v-160H180v160Zm220 220h160v-160H400v160Zm0 220h160v-160H400v160ZM180-400h160v-160H180v160Zm440 0h160v-160H620v160ZM180-180h160v-160H180v160Zm440 0h160v-160H620v160Z\"/>\n",
              "  </svg>\n",
              "    </button>\n",
              "\n",
              "  <style>\n",
              "    .colab-df-container {\n",
              "      display:flex;\n",
              "      gap: 12px;\n",
              "    }\n",
              "\n",
              "    .colab-df-convert {\n",
              "      background-color: #E8F0FE;\n",
              "      border: none;\n",
              "      border-radius: 50%;\n",
              "      cursor: pointer;\n",
              "      display: none;\n",
              "      fill: #1967D2;\n",
              "      height: 32px;\n",
              "      padding: 0 0 0 0;\n",
              "      width: 32px;\n",
              "    }\n",
              "\n",
              "    .colab-df-convert:hover {\n",
              "      background-color: #E2EBFA;\n",
              "      box-shadow: 0px 1px 2px rgba(60, 64, 67, 0.3), 0px 1px 3px 1px rgba(60, 64, 67, 0.15);\n",
              "      fill: #174EA6;\n",
              "    }\n",
              "\n",
              "    .colab-df-buttons div {\n",
              "      margin-bottom: 4px;\n",
              "    }\n",
              "\n",
              "    [theme=dark] .colab-df-convert {\n",
              "      background-color: #3B4455;\n",
              "      fill: #D2E3FC;\n",
              "    }\n",
              "\n",
              "    [theme=dark] .colab-df-convert:hover {\n",
              "      background-color: #434B5C;\n",
              "      box-shadow: 0px 1px 3px 1px rgba(0, 0, 0, 0.15);\n",
              "      filter: drop-shadow(0px 1px 2px rgba(0, 0, 0, 0.3));\n",
              "      fill: #FFFFFF;\n",
              "    }\n",
              "  </style>\n",
              "\n",
              "    <script>\n",
              "      const buttonEl =\n",
              "        document.querySelector('#df-43a7c917-91fc-4b72-ab80-53eaa9583aca button.colab-df-convert');\n",
              "      buttonEl.style.display =\n",
              "        google.colab.kernel.accessAllowed ? 'block' : 'none';\n",
              "\n",
              "      async function convertToInteractive(key) {\n",
              "        const element = document.querySelector('#df-43a7c917-91fc-4b72-ab80-53eaa9583aca');\n",
              "        const dataTable =\n",
              "          await google.colab.kernel.invokeFunction('convertToInteractive',\n",
              "                                                    [key], {});\n",
              "        if (!dataTable) return;\n",
              "\n",
              "        const docLinkHtml = 'Like what you see? Visit the ' +\n",
              "          '<a target=\"_blank\" href=https://colab.research.google.com/notebooks/data_table.ipynb>data table notebook</a>'\n",
              "          + ' to learn more about interactive tables.';\n",
              "        element.innerHTML = '';\n",
              "        dataTable['output_type'] = 'display_data';\n",
              "        await google.colab.output.renderOutput(dataTable, element);\n",
              "        const docLink = document.createElement('div');\n",
              "        docLink.innerHTML = docLinkHtml;\n",
              "        element.appendChild(docLink);\n",
              "      }\n",
              "    </script>\n",
              "  </div>\n",
              "\n",
              "\n",
              "    <div id=\"df-b537bdab-f51a-4abd-a2cf-fbc4af1168c3\">\n",
              "      <button class=\"colab-df-quickchart\" onclick=\"quickchart('df-b537bdab-f51a-4abd-a2cf-fbc4af1168c3')\"\n",
              "                title=\"Suggest charts\"\n",
              "                style=\"display:none;\">\n",
              "\n",
              "<svg xmlns=\"http://www.w3.org/2000/svg\" height=\"24px\"viewBox=\"0 0 24 24\"\n",
              "     width=\"24px\">\n",
              "    <g>\n",
              "        <path d=\"M19 3H5c-1.1 0-2 .9-2 2v14c0 1.1.9 2 2 2h14c1.1 0 2-.9 2-2V5c0-1.1-.9-2-2-2zM9 17H7v-7h2v7zm4 0h-2V7h2v10zm4 0h-2v-4h2v4z\"/>\n",
              "    </g>\n",
              "</svg>\n",
              "      </button>\n",
              "\n",
              "<style>\n",
              "  .colab-df-quickchart {\n",
              "      --bg-color: #E8F0FE;\n",
              "      --fill-color: #1967D2;\n",
              "      --hover-bg-color: #E2EBFA;\n",
              "      --hover-fill-color: #174EA6;\n",
              "      --disabled-fill-color: #AAA;\n",
              "      --disabled-bg-color: #DDD;\n",
              "  }\n",
              "\n",
              "  [theme=dark] .colab-df-quickchart {\n",
              "      --bg-color: #3B4455;\n",
              "      --fill-color: #D2E3FC;\n",
              "      --hover-bg-color: #434B5C;\n",
              "      --hover-fill-color: #FFFFFF;\n",
              "      --disabled-bg-color: #3B4455;\n",
              "      --disabled-fill-color: #666;\n",
              "  }\n",
              "\n",
              "  .colab-df-quickchart {\n",
              "    background-color: var(--bg-color);\n",
              "    border: none;\n",
              "    border-radius: 50%;\n",
              "    cursor: pointer;\n",
              "    display: none;\n",
              "    fill: var(--fill-color);\n",
              "    height: 32px;\n",
              "    padding: 0;\n",
              "    width: 32px;\n",
              "  }\n",
              "\n",
              "  .colab-df-quickchart:hover {\n",
              "    background-color: var(--hover-bg-color);\n",
              "    box-shadow: 0 1px 2px rgba(60, 64, 67, 0.3), 0 1px 3px 1px rgba(60, 64, 67, 0.15);\n",
              "    fill: var(--button-hover-fill-color);\n",
              "  }\n",
              "\n",
              "  .colab-df-quickchart-complete:disabled,\n",
              "  .colab-df-quickchart-complete:disabled:hover {\n",
              "    background-color: var(--disabled-bg-color);\n",
              "    fill: var(--disabled-fill-color);\n",
              "    box-shadow: none;\n",
              "  }\n",
              "\n",
              "  .colab-df-spinner {\n",
              "    border: 2px solid var(--fill-color);\n",
              "    border-color: transparent;\n",
              "    border-bottom-color: var(--fill-color);\n",
              "    animation:\n",
              "      spin 1s steps(1) infinite;\n",
              "  }\n",
              "\n",
              "  @keyframes spin {\n",
              "    0% {\n",
              "      border-color: transparent;\n",
              "      border-bottom-color: var(--fill-color);\n",
              "      border-left-color: var(--fill-color);\n",
              "    }\n",
              "    20% {\n",
              "      border-color: transparent;\n",
              "      border-left-color: var(--fill-color);\n",
              "      border-top-color: var(--fill-color);\n",
              "    }\n",
              "    30% {\n",
              "      border-color: transparent;\n",
              "      border-left-color: var(--fill-color);\n",
              "      border-top-color: var(--fill-color);\n",
              "      border-right-color: var(--fill-color);\n",
              "    }\n",
              "    40% {\n",
              "      border-color: transparent;\n",
              "      border-right-color: var(--fill-color);\n",
              "      border-top-color: var(--fill-color);\n",
              "    }\n",
              "    60% {\n",
              "      border-color: transparent;\n",
              "      border-right-color: var(--fill-color);\n",
              "    }\n",
              "    80% {\n",
              "      border-color: transparent;\n",
              "      border-right-color: var(--fill-color);\n",
              "      border-bottom-color: var(--fill-color);\n",
              "    }\n",
              "    90% {\n",
              "      border-color: transparent;\n",
              "      border-bottom-color: var(--fill-color);\n",
              "    }\n",
              "  }\n",
              "</style>\n",
              "\n",
              "      <script>\n",
              "        async function quickchart(key) {\n",
              "          const quickchartButtonEl =\n",
              "            document.querySelector('#' + key + ' button');\n",
              "          quickchartButtonEl.disabled = true;  // To prevent multiple clicks.\n",
              "          quickchartButtonEl.classList.add('colab-df-spinner');\n",
              "          try {\n",
              "            const charts = await google.colab.kernel.invokeFunction(\n",
              "                'suggestCharts', [key], {});\n",
              "          } catch (error) {\n",
              "            console.error('Error during call to suggestCharts:', error);\n",
              "          }\n",
              "          quickchartButtonEl.classList.remove('colab-df-spinner');\n",
              "          quickchartButtonEl.classList.add('colab-df-quickchart-complete');\n",
              "        }\n",
              "        (() => {\n",
              "          let quickchartButtonEl =\n",
              "            document.querySelector('#df-b537bdab-f51a-4abd-a2cf-fbc4af1168c3 button');\n",
              "          quickchartButtonEl.style.display =\n",
              "            google.colab.kernel.accessAllowed ? 'block' : 'none';\n",
              "        })();\n",
              "      </script>\n",
              "    </div>\n",
              "\n",
              "    </div>\n",
              "  </div>\n"
            ],
            "application/vnd.google.colaboratory.intrinsic+json": {
              "type": "dataframe"
            }
          },
          "metadata": {},
          "execution_count": 8
        }
      ],
      "source": [
        "hotel_bookings.sample(10)"
      ]
    },
    {
      "cell_type": "markdown",
      "id": "dcae2df6-61e2-45bb-abd8-2222afecfbd1",
      "metadata": {
        "id": "dcae2df6-61e2-45bb-abd8-2222afecfbd1"
      },
      "source": [
        "## EDA"
      ]
    },
    {
      "cell_type": "code",
      "source": [
        "!pip install ydata_profiling"
      ],
      "metadata": {
        "colab": {
          "base_uri": "https://localhost:8080/"
        },
        "collapsed": true,
        "id": "KOO__ARt9eRd",
        "outputId": "906d6ca5-036c-43e8-f382-6ac2ef8ee2ae"
      },
      "id": "KOO__ARt9eRd",
      "execution_count": 10,
      "outputs": [
        {
          "output_type": "stream",
          "name": "stdout",
          "text": [
            "Collecting ydata_profiling\n",
            "  Downloading ydata_profiling-4.16.1-py2.py3-none-any.whl.metadata (22 kB)\n",
            "Requirement already satisfied: scipy<1.16,>=1.4.1 in /usr/local/lib/python3.11/dist-packages (from ydata_profiling) (1.15.3)\n",
            "Requirement already satisfied: pandas!=1.4.0,<3.0,>1.1 in /usr/local/lib/python3.11/dist-packages (from ydata_profiling) (2.2.2)\n",
            "Requirement already satisfied: matplotlib<=3.10,>=3.5 in /usr/local/lib/python3.11/dist-packages (from ydata_profiling) (3.10.0)\n",
            "Requirement already satisfied: pydantic>=2 in /usr/local/lib/python3.11/dist-packages (from ydata_profiling) (2.11.4)\n",
            "Requirement already satisfied: PyYAML<6.1,>=5.0.0 in /usr/local/lib/python3.11/dist-packages (from ydata_profiling) (6.0.2)\n",
            "Requirement already satisfied: jinja2<3.2,>=2.11.1 in /usr/local/lib/python3.11/dist-packages (from ydata_profiling) (3.1.6)\n",
            "Collecting visions<0.8.2,>=0.7.5 (from visions[type_image_path]<0.8.2,>=0.7.5->ydata_profiling)\n",
            "  Downloading visions-0.8.1-py3-none-any.whl.metadata (11 kB)\n",
            "Requirement already satisfied: numpy<2.2,>=1.16.0 in /usr/local/lib/python3.11/dist-packages (from ydata_profiling) (2.0.2)\n",
            "Collecting htmlmin==0.1.12 (from ydata_profiling)\n",
            "  Downloading htmlmin-0.1.12.tar.gz (19 kB)\n",
            "  Preparing metadata (setup.py) ... \u001b[?25l\u001b[?25hdone\n",
            "Collecting phik<0.13,>=0.11.1 (from ydata_profiling)\n",
            "  Downloading phik-0.12.4-cp311-cp311-manylinux_2_17_x86_64.manylinux2014_x86_64.whl.metadata (5.6 kB)\n",
            "Requirement already satisfied: requests<3,>=2.24.0 in /usr/local/lib/python3.11/dist-packages (from ydata_profiling) (2.32.3)\n",
            "Requirement already satisfied: tqdm<5,>=4.48.2 in /usr/local/lib/python3.11/dist-packages (from ydata_profiling) (4.67.1)\n",
            "Requirement already satisfied: seaborn<0.14,>=0.10.1 in /usr/local/lib/python3.11/dist-packages (from ydata_profiling) (0.13.2)\n",
            "Collecting multimethod<2,>=1.4 (from ydata_profiling)\n",
            "  Downloading multimethod-1.12-py3-none-any.whl.metadata (9.6 kB)\n",
            "Requirement already satisfied: statsmodels<1,>=0.13.2 in /usr/local/lib/python3.11/dist-packages (from ydata_profiling) (0.14.4)\n",
            "Requirement already satisfied: typeguard<5,>=3 in /usr/local/lib/python3.11/dist-packages (from ydata_profiling) (4.4.2)\n",
            "Collecting imagehash==4.3.1 (from ydata_profiling)\n",
            "  Downloading ImageHash-4.3.1-py2.py3-none-any.whl.metadata (8.0 kB)\n",
            "Requirement already satisfied: wordcloud>=1.9.3 in /usr/local/lib/python3.11/dist-packages (from ydata_profiling) (1.9.4)\n",
            "Collecting dacite>=1.8 (from ydata_profiling)\n",
            "  Downloading dacite-1.9.2-py3-none-any.whl.metadata (17 kB)\n",
            "Requirement already satisfied: numba<=0.61,>=0.56.0 in /usr/local/lib/python3.11/dist-packages (from ydata_profiling) (0.60.0)\n",
            "Requirement already satisfied: PyWavelets in /usr/local/lib/python3.11/dist-packages (from imagehash==4.3.1->ydata_profiling) (1.8.0)\n",
            "Requirement already satisfied: pillow in /usr/local/lib/python3.11/dist-packages (from imagehash==4.3.1->ydata_profiling) (11.2.1)\n",
            "Requirement already satisfied: MarkupSafe>=2.0 in /usr/local/lib/python3.11/dist-packages (from jinja2<3.2,>=2.11.1->ydata_profiling) (3.0.2)\n",
            "Requirement already satisfied: contourpy>=1.0.1 in /usr/local/lib/python3.11/dist-packages (from matplotlib<=3.10,>=3.5->ydata_profiling) (1.3.2)\n",
            "Requirement already satisfied: cycler>=0.10 in /usr/local/lib/python3.11/dist-packages (from matplotlib<=3.10,>=3.5->ydata_profiling) (0.12.1)\n",
            "Requirement already satisfied: fonttools>=4.22.0 in /usr/local/lib/python3.11/dist-packages (from matplotlib<=3.10,>=3.5->ydata_profiling) (4.58.0)\n",
            "Requirement already satisfied: kiwisolver>=1.3.1 in /usr/local/lib/python3.11/dist-packages (from matplotlib<=3.10,>=3.5->ydata_profiling) (1.4.8)\n",
            "Requirement already satisfied: packaging>=20.0 in /usr/local/lib/python3.11/dist-packages (from matplotlib<=3.10,>=3.5->ydata_profiling) (24.2)\n",
            "Requirement already satisfied: pyparsing>=2.3.1 in /usr/local/lib/python3.11/dist-packages (from matplotlib<=3.10,>=3.5->ydata_profiling) (3.2.3)\n",
            "Requirement already satisfied: python-dateutil>=2.7 in /usr/local/lib/python3.11/dist-packages (from matplotlib<=3.10,>=3.5->ydata_profiling) (2.9.0.post0)\n",
            "Requirement already satisfied: llvmlite<0.44,>=0.43.0dev0 in /usr/local/lib/python3.11/dist-packages (from numba<=0.61,>=0.56.0->ydata_profiling) (0.43.0)\n",
            "Requirement already satisfied: pytz>=2020.1 in /usr/local/lib/python3.11/dist-packages (from pandas!=1.4.0,<3.0,>1.1->ydata_profiling) (2025.2)\n",
            "Requirement already satisfied: tzdata>=2022.7 in /usr/local/lib/python3.11/dist-packages (from pandas!=1.4.0,<3.0,>1.1->ydata_profiling) (2025.2)\n",
            "Requirement already satisfied: joblib>=0.14.1 in /usr/local/lib/python3.11/dist-packages (from phik<0.13,>=0.11.1->ydata_profiling) (1.5.0)\n",
            "Requirement already satisfied: annotated-types>=0.6.0 in /usr/local/lib/python3.11/dist-packages (from pydantic>=2->ydata_profiling) (0.7.0)\n",
            "Requirement already satisfied: pydantic-core==2.33.2 in /usr/local/lib/python3.11/dist-packages (from pydantic>=2->ydata_profiling) (2.33.2)\n",
            "Requirement already satisfied: typing-extensions>=4.12.2 in /usr/local/lib/python3.11/dist-packages (from pydantic>=2->ydata_profiling) (4.13.2)\n",
            "Requirement already satisfied: typing-inspection>=0.4.0 in /usr/local/lib/python3.11/dist-packages (from pydantic>=2->ydata_profiling) (0.4.0)\n",
            "Requirement already satisfied: charset-normalizer<4,>=2 in /usr/local/lib/python3.11/dist-packages (from requests<3,>=2.24.0->ydata_profiling) (3.4.2)\n",
            "Requirement already satisfied: idna<4,>=2.5 in /usr/local/lib/python3.11/dist-packages (from requests<3,>=2.24.0->ydata_profiling) (3.10)\n",
            "Requirement already satisfied: urllib3<3,>=1.21.1 in /usr/local/lib/python3.11/dist-packages (from requests<3,>=2.24.0->ydata_profiling) (2.4.0)\n",
            "Requirement already satisfied: certifi>=2017.4.17 in /usr/local/lib/python3.11/dist-packages (from requests<3,>=2.24.0->ydata_profiling) (2025.4.26)\n",
            "Requirement already satisfied: patsy>=0.5.6 in /usr/local/lib/python3.11/dist-packages (from statsmodels<1,>=0.13.2->ydata_profiling) (1.0.1)\n",
            "Requirement already satisfied: attrs>=19.3.0 in /usr/local/lib/python3.11/dist-packages (from visions<0.8.2,>=0.7.5->visions[type_image_path]<0.8.2,>=0.7.5->ydata_profiling) (25.3.0)\n",
            "Requirement already satisfied: networkx>=2.4 in /usr/local/lib/python3.11/dist-packages (from visions<0.8.2,>=0.7.5->visions[type_image_path]<0.8.2,>=0.7.5->ydata_profiling) (3.4.2)\n",
            "Collecting puremagic (from visions<0.8.2,>=0.7.5->visions[type_image_path]<0.8.2,>=0.7.5->ydata_profiling)\n",
            "  Downloading puremagic-1.29-py3-none-any.whl.metadata (5.8 kB)\n",
            "Requirement already satisfied: six>=1.5 in /usr/local/lib/python3.11/dist-packages (from python-dateutil>=2.7->matplotlib<=3.10,>=3.5->ydata_profiling) (1.17.0)\n",
            "Downloading ydata_profiling-4.16.1-py2.py3-none-any.whl (400 kB)\n",
            "\u001b[2K   \u001b[90m━━━━━━━━━━━━━━━━━━━━━━━━━━━━━━━━━━━━━━━━\u001b[0m \u001b[32m400.1/400.1 kB\u001b[0m \u001b[31m12.3 MB/s\u001b[0m eta \u001b[36m0:00:00\u001b[0m\n",
            "\u001b[?25hDownloading ImageHash-4.3.1-py2.py3-none-any.whl (296 kB)\n",
            "\u001b[2K   \u001b[90m━━━━━━━━━━━━━━━━━━━━━━━━━━━━━━━━━━━━━━━━\u001b[0m \u001b[32m296.5/296.5 kB\u001b[0m \u001b[31m19.8 MB/s\u001b[0m eta \u001b[36m0:00:00\u001b[0m\n",
            "\u001b[?25hDownloading dacite-1.9.2-py3-none-any.whl (16 kB)\n",
            "Downloading multimethod-1.12-py3-none-any.whl (10 kB)\n",
            "Downloading phik-0.12.4-cp311-cp311-manylinux_2_17_x86_64.manylinux2014_x86_64.whl (687 kB)\n",
            "\u001b[2K   \u001b[90m━━━━━━━━━━━━━━━━━━━━━━━━━━━━━━━━━━━━━━━━\u001b[0m \u001b[32m687.8/687.8 kB\u001b[0m \u001b[31m40.4 MB/s\u001b[0m eta \u001b[36m0:00:00\u001b[0m\n",
            "\u001b[?25hDownloading visions-0.8.1-py3-none-any.whl (105 kB)\n",
            "\u001b[2K   \u001b[90m━━━━━━━━━━━━━━━━━━━━━━━━━━━━━━━━━━━━━━━━\u001b[0m \u001b[32m105.4/105.4 kB\u001b[0m \u001b[31m8.2 MB/s\u001b[0m eta \u001b[36m0:00:00\u001b[0m\n",
            "\u001b[?25hDownloading puremagic-1.29-py3-none-any.whl (43 kB)\n",
            "\u001b[2K   \u001b[90m━━━━━━━━━━━━━━━━━━━━━━━━━━━━━━━━━━━━━━━━\u001b[0m \u001b[32m43.3/43.3 kB\u001b[0m \u001b[31m2.4 MB/s\u001b[0m eta \u001b[36m0:00:00\u001b[0m\n",
            "\u001b[?25hBuilding wheels for collected packages: htmlmin\n",
            "  Building wheel for htmlmin (setup.py) ... \u001b[?25l\u001b[?25hdone\n",
            "  Created wheel for htmlmin: filename=htmlmin-0.1.12-py3-none-any.whl size=27081 sha256=551e61680e1036373831ffab51cdf4f08a7d9347e438d31d8f800e1c8769a180\n",
            "  Stored in directory: /root/.cache/pip/wheels/8d/55/1a/19cd535375ed1ede0c996405ebffe34b196d78e2d9545723a2\n",
            "Successfully built htmlmin\n",
            "Installing collected packages: puremagic, htmlmin, multimethod, dacite, imagehash, visions, phik, ydata_profiling\n",
            "Successfully installed dacite-1.9.2 htmlmin-0.1.12 imagehash-4.3.1 multimethod-1.12 phik-0.12.4 puremagic-1.29 visions-0.8.1 ydata_profiling-4.16.1\n"
          ]
        }
      ]
    },
    {
      "cell_type": "code",
      "execution_count": 11,
      "id": "e696679c-e27a-4585-80e7-3bacd96292df",
      "metadata": {
        "tags": [],
        "id": "e696679c-e27a-4585-80e7-3bacd96292df",
        "colab": {
          "base_uri": "https://localhost:8080/",
          "height": 64
        },
        "outputId": "c6dd73ec-8569-4f6d-eafb-9f2eaf086c27"
      },
      "outputs": [
        {
          "output_type": "display_data",
          "data": {
            "text/plain": [
              "<IPython.core.display.HTML object>"
            ],
            "text/html": [
              "\n",
              "            <div>\n",
              "                <ins><a href=\"https://ydata.ai/register\">Upgrade to ydata-sdk</a></ins>\n",
              "                <p>\n",
              "                    Improve your data and profiling with ydata-sdk, featuring data quality scoring, redundancy detection, outlier identification, text validation, and synthetic data generation.\n",
              "                </p>\n",
              "            </div>\n",
              "            "
            ]
          },
          "metadata": {}
        }
      ],
      "source": [
        "from ydata_profiling import ProfileReport"
      ]
    },
    {
      "cell_type": "code",
      "execution_count": 12,
      "id": "edc1a418-e2af-4b62-ae90-91b38d169d0c",
      "metadata": {
        "tags": [],
        "id": "edc1a418-e2af-4b62-ae90-91b38d169d0c"
      },
      "outputs": [],
      "source": [
        "profile = ProfileReport(hotel_bookings, title=\"Pandas Profiling Report\")"
      ]
    },
    {
      "cell_type": "code",
      "execution_count": 13,
      "id": "3da2e9e7-1460-422b-82a8-46f6d7a4d870",
      "metadata": {
        "tags": [],
        "id": "3da2e9e7-1460-422b-82a8-46f6d7a4d870",
        "colab": {
          "base_uri": "https://localhost:8080/",
          "height": 371,
          "referenced_widgets": [
            "92bb4d4aff844be58a74326beba901f8",
            "1db3a9579dff4355897e6cb9e683617d",
            "98b8e8fcf70f4987b3ff35c4bb9fa4fd",
            "2a07b2dc9e1649cfa753aed235e9fbcc",
            "59c4db6709c24bb4af88f5e3ab5ec120",
            "c7ac448dc9274f2da74c1a7c31528020",
            "08e2efef06374acab575c7c5a1b79482",
            "512c6841ffe04db684fdba168fe21cfd",
            "ea63cc6ad3164a589164e9d131d25515",
            "8eff0f688d474fb98e1a518ea39f440c",
            "bf89762439b049a4beefabe79a125165",
            "4a05a3c3127942499851c0c8751f6735",
            "4ada255f1f1646da8e2f804a07453749",
            "ee51474f9a66488489074f8d6035d0f5",
            "5c08f1671b29418db542520df4a02cb5",
            "f70ee5011fda4d42a4000626a705f697",
            "3e7b45fd8b5e4e97b307905b07511c64",
            "5f8aae3da1814b42b86f0b77a616e337",
            "8dc4cbe5be0f4052b6b8b927dc9e8321",
            "81a6d81adedd4ef58e61a929d7c1d406",
            "f7cdd99e962e451b92d139d51e4e0a2b",
            "e4c422cf895f4606828761a279956c64",
            "0308ab5937ed4990b5f067569efdb459",
            "e204ec8a58ca4b17963e42184f0587f2",
            "3b71892f6bbd4b01a62d3f28b1014637",
            "56220c736a394e218d3e68a8b6c545d9",
            "49d0122103b6477eb0274b2571b4f7a6",
            "ae163f098f5b4d5fa34f5f26b08a2e06",
            "afb31b036c9144b8b4464db288c12270",
            "0aab73be38c844158267a4587c2b9102",
            "6b71f60b8a6a4388975aae9f5f99cd2d",
            "d89716c93f214312858d1934aa0c2a0a",
            "c7929856b9704e529ef5d30e2cd831c9",
            "e3e2d716ee9840d48c0c36157828c4ce",
            "4e07528713e14f6082317d4b95e77ae8",
            "9d0f23eea9294f6b9142d82f8d7f19a7",
            "70391270440f4a08b9941839f0878bd1",
            "21e5afca96614f40ab8b615cfbec2516",
            "89137c1749794322be9ecb2630613f8f",
            "82b82e8da44d4e269ae28dd7f49e987f",
            "341cc60c7fc741f6a83edf10a8545cea",
            "995bf0d06afa4c38a815ea5af46c7f9e",
            "2e9780996ec04740be7539e838079556",
            "9bb1e8460701427ebc810e81fff94710"
          ]
        },
        "outputId": "82cdb886-02d2-4055-ada1-249e8651e234"
      },
      "outputs": [
        {
          "output_type": "display_data",
          "data": {
            "text/plain": [
              "Summarize dataset:   0%|          | 0/5 [00:00<?, ?it/s]"
            ],
            "application/vnd.jupyter.widget-view+json": {
              "version_major": 2,
              "version_minor": 0,
              "model_id": "92bb4d4aff844be58a74326beba901f8"
            }
          },
          "metadata": {}
        },
        {
          "output_type": "stream",
          "name": "stderr",
          "text": [
            "\n",
            "  0%|          | 0/32 [00:00<?, ?it/s]\u001b[A\n",
            "  3%|▎         | 1/32 [00:01<00:45,  1.47s/it]\u001b[A\n",
            " 16%|█▌        | 5/32 [00:02<00:11,  2.40it/s]\u001b[A\n",
            " 34%|███▍      | 11/32 [00:02<00:03,  5.42it/s]\u001b[A\n",
            " 41%|████      | 13/32 [00:03<00:03,  5.30it/s]\u001b[A\n",
            " 44%|████▍     | 14/32 [00:03<00:03,  4.72it/s]\u001b[A\n",
            " 47%|████▋     | 15/32 [00:03<00:03,  4.73it/s]\u001b[A\n",
            " 50%|█████     | 16/32 [00:04<00:03,  4.30it/s]\u001b[A\n",
            " 62%|██████▎   | 20/32 [00:04<00:02,  5.17it/s]\u001b[A\n",
            " 72%|███████▏  | 23/32 [00:05<00:02,  4.22it/s]\u001b[A\n",
            " 84%|████████▍ | 27/32 [00:06<00:00,  5.24it/s]\u001b[A\n",
            "100%|██████████| 32/32 [00:07<00:00,  4.22it/s]\n"
          ]
        },
        {
          "output_type": "display_data",
          "data": {
            "text/plain": [
              "Generate report structure:   0%|          | 0/1 [00:00<?, ?it/s]"
            ],
            "application/vnd.jupyter.widget-view+json": {
              "version_major": 2,
              "version_minor": 0,
              "model_id": "4a05a3c3127942499851c0c8751f6735"
            }
          },
          "metadata": {}
        },
        {
          "output_type": "display_data",
          "data": {
            "text/plain": [
              "Render HTML:   0%|          | 0/1 [00:00<?, ?it/s]"
            ],
            "application/vnd.jupyter.widget-view+json": {
              "version_major": 2,
              "version_minor": 0,
              "model_id": "0308ab5937ed4990b5f067569efdb459"
            }
          },
          "metadata": {}
        },
        {
          "output_type": "display_data",
          "data": {
            "text/plain": [
              "Export report to file:   0%|          | 0/1 [00:00<?, ?it/s]"
            ],
            "application/vnd.jupyter.widget-view+json": {
              "version_major": 2,
              "version_minor": 0,
              "model_id": "e3e2d716ee9840d48c0c36157828c4ce"
            }
          },
          "metadata": {}
        }
      ],
      "source": [
        " profile.to_file(\"bookings_profile.html\")\n",
        "## file:///Users/antonio.feregrino/hub/cf-ml/hotel-facilito/bookings_profile.html"
      ]
    },
    {
      "cell_type": "markdown",
      "id": "96160a18-7eb1-4e47-90ca-9b4f8392b828",
      "metadata": {
        "id": "96160a18-7eb1-4e47-90ca-9b4f8392b828"
      },
      "source": [
        "### Custom plots ..."
      ]
    },
    {
      "cell_type": "markdown",
      "id": "5d7cc55d-a88b-41f9-9fce-bfc122c6eecc",
      "metadata": {
        "id": "5d7cc55d-a88b-41f9-9fce-bfc122c6eecc"
      },
      "source": [
        "## Data leakage\n",
        "\n",
        "La variable `reservation_status` indica el estado de la reservación, esta es en realidad un reflejo de `is_canceled`, si la dejamos dentro de las variables de entrada estamos filtrando información al modelo. Este nos dará un resultado excelente, pero en realidad no nos servirá de nada en la vida real. Debemos sacarla del dataset junto con otras varaibles asociadas:"
      ]
    },
    {
      "cell_type": "code",
      "execution_count": 14,
      "id": "0770c308-1611-46fb-8dc6-881d43cdfd8a",
      "metadata": {
        "tags": [],
        "id": "0770c308-1611-46fb-8dc6-881d43cdfd8a"
      },
      "outputs": [],
      "source": [
        "# Avoid data leakage\n",
        "hotel_bookings = hotel_bookings.drop(['reservation_status', 'reservation_status_date'], axis=1)"
      ]
    },
    {
      "cell_type": "markdown",
      "id": "7cd3a99b-9245-4ab8-a7e0-c15b706efb4b",
      "metadata": {
        "id": "7cd3a99b-9245-4ab8-a7e0-c15b706efb4b"
      },
      "source": [
        "## Separa la variable a predecir\n"
      ]
    },
    {
      "cell_type": "code",
      "execution_count": 15,
      "id": "c2d6286e-dd8e-4bff-a462-92f8637f7975",
      "metadata": {
        "tags": [],
        "id": "c2d6286e-dd8e-4bff-a462-92f8637f7975"
      },
      "outputs": [],
      "source": [
        "is_canceled = hotel_bookings['is_canceled'].copy()\n",
        "hotel_data = hotel_bookings.drop(['is_canceled'], axis=1)"
      ]
    },
    {
      "cell_type": "markdown",
      "id": "9ae86c4c-fe80-4d55-8949-faae8821a827",
      "metadata": {
        "tags": [],
        "id": "9ae86c4c-fe80-4d55-8949-faae8821a827"
      },
      "source": [
        "## Split dataset"
      ]
    },
    {
      "cell_type": "code",
      "execution_count": 16,
      "id": "af5fc337-98eb-45b4-9379-79786cb65e6e",
      "metadata": {
        "tags": [],
        "id": "af5fc337-98eb-45b4-9379-79786cb65e6e",
        "outputId": "ced84e1a-3199-44c6-da52-8f96f8c24409",
        "colab": {
          "base_uri": "https://localhost:8080/"
        }
      },
      "outputs": [
        {
          "output_type": "stream",
          "name": "stdout",
          "text": [
            "71514 23838 23838 119190\n"
          ]
        }
      ],
      "source": [
        "# Calculate test and validation set size:\n",
        "original_count = len(hotel_bookings)\n",
        "training_size = 0.60 # 60% of records\n",
        "test_size = (1 - training_size) / 2\n",
        "\n",
        "\n",
        "training_count = int(original_count * training_size)\n",
        "test_count = int(original_count * test_size)\n",
        "validation_count = original_count - training_count - test_count\n",
        "\n",
        "print(training_count, test_count, validation_count, original_count)"
      ]
    },
    {
      "cell_type": "code",
      "execution_count": 17,
      "id": "538bd1d9-9e1d-47c2-9e9b-faca9f052236",
      "metadata": {
        "tags": [],
        "id": "538bd1d9-9e1d-47c2-9e9b-faca9f052236",
        "outputId": "c8dec645-ff78-4e0f-9308-b3639be93cfd",
        "colab": {
          "base_uri": "https://localhost:8080/"
        }
      },
      "outputs": [
        {
          "output_type": "stream",
          "name": "stdout",
          "text": [
            "71514 23838 23838\n"
          ]
        }
      ],
      "source": [
        "from sklearn.model_selection import train_test_split\n",
        "\n",
        "train_x, rest_x, train_y, rest_y = train_test_split(hotel_data, is_canceled, train_size=training_count)\n",
        "test_x, validate_x, test_y, validate_y = train_test_split(rest_x, rest_y, train_size=test_count)\n",
        "\n",
        "print(len(train_x), len(test_x), len(validate_x))"
      ]
    },
    {
      "cell_type": "markdown",
      "id": "5ff2f029-a21b-4a3f-a437-3d8fe0fac25b",
      "metadata": {
        "id": "5ff2f029-a21b-4a3f-a437-3d8fe0fac25b"
      },
      "source": [
        "## Variables a codificar - One-hot encoding\n",
        "\n",
        " - hotel, meal, distribution_channel, reserved_room_type, assigned_room_type, customer_type, deposit_type"
      ]
    },
    {
      "cell_type": "code",
      "execution_count": 18,
      "id": "ef04f3c3-9080-48c5-b05c-5aca282752b6",
      "metadata": {
        "tags": [],
        "id": "ef04f3c3-9080-48c5-b05c-5aca282752b6"
      },
      "outputs": [],
      "source": [
        "from sklearn.preprocessing import OneHotEncoder"
      ]
    },
    {
      "cell_type": "code",
      "execution_count": 19,
      "id": "77510440-3021-44c9-acd8-ec05e997deb1",
      "metadata": {
        "tags": [],
        "id": "77510440-3021-44c9-acd8-ec05e997deb1"
      },
      "outputs": [],
      "source": [
        "one_hot_encoder = OneHotEncoder(sparse_output=False, handle_unknown=\"ignore\")"
      ]
    },
    {
      "cell_type": "code",
      "execution_count": 20,
      "id": "5dec1da7-a64c-4e95-bc4b-d238a3c085d2",
      "metadata": {
        "tags": [],
        "id": "5dec1da7-a64c-4e95-bc4b-d238a3c085d2",
        "outputId": "a386ebcb-47e4-49cd-f33d-3f46789b8c57",
        "colab": {
          "base_uri": "https://localhost:8080/"
        }
      },
      "outputs": [
        {
          "output_type": "execute_result",
          "data": {
            "text/plain": [
              "array([[0., 1.],\n",
              "       [0., 1.],\n",
              "       [0., 1.],\n",
              "       ...,\n",
              "       [0., 1.],\n",
              "       [1., 0.],\n",
              "       [0., 1.]])"
            ]
          },
          "metadata": {},
          "execution_count": 20
        }
      ],
      "source": [
        "one_hot_encoder.fit(train_x[['hotel']])\n",
        "one_hot_encoder.transform(train_x[['hotel']])"
      ]
    },
    {
      "cell_type": "markdown",
      "id": "169245ed-2e8f-469a-909e-5af84b52ffdc",
      "metadata": {
        "id": "169245ed-2e8f-469a-909e-5af84b52ffdc"
      },
      "source": [
        "## Variables a binarizar\n",
        "\n",
        " - total_of_special_requests, required_car_parking_spaces, booking_changes, previous_bookings_not_canceled, previous_cancellations"
      ]
    },
    {
      "cell_type": "code",
      "execution_count": 21,
      "id": "710b64e3-bb63-4f22-b36e-524da17a5b45",
      "metadata": {
        "tags": [],
        "id": "710b64e3-bb63-4f22-b36e-524da17a5b45"
      },
      "outputs": [],
      "source": [
        "from sklearn.preprocessing import Binarizer"
      ]
    },
    {
      "cell_type": "code",
      "execution_count": 22,
      "id": "c4f9d5bc-4843-4b01-bb5d-751f536b8f8e",
      "metadata": {
        "tags": [],
        "id": "c4f9d5bc-4843-4b01-bb5d-751f536b8f8e"
      },
      "outputs": [],
      "source": [
        "binarizer = Binarizer()"
      ]
    },
    {
      "cell_type": "code",
      "execution_count": 23,
      "id": "e212dd38-ed53-4d82-ab24-e9c4ab2123ab",
      "metadata": {
        "tags": [],
        "id": "e212dd38-ed53-4d82-ab24-e9c4ab2123ab",
        "outputId": "19555353-e9b3-4c25-ed70-0535a17a277c",
        "colab": {
          "base_uri": "https://localhost:8080/",
          "height": 363
        }
      },
      "outputs": [
        {
          "output_type": "execute_result",
          "data": {
            "text/plain": [
              "        total_of_special_requests  has_made_special_requests\n",
              "95658                           0                          0\n",
              "27833                           0                          0\n",
              "13400                           0                          0\n",
              "77182                           1                          1\n",
              "71020                           1                          1\n",
              "34145                           2                          1\n",
              "81041                           2                          1\n",
              "102160                          1                          1\n",
              "117131                          1                          1\n",
              "83305                           0                          0"
            ],
            "text/html": [
              "\n",
              "  <div id=\"df-4b926eee-f0c2-4824-84a8-bad54249ece2\" class=\"colab-df-container\">\n",
              "    <div>\n",
              "<style scoped>\n",
              "    .dataframe tbody tr th:only-of-type {\n",
              "        vertical-align: middle;\n",
              "    }\n",
              "\n",
              "    .dataframe tbody tr th {\n",
              "        vertical-align: top;\n",
              "    }\n",
              "\n",
              "    .dataframe thead th {\n",
              "        text-align: right;\n",
              "    }\n",
              "</style>\n",
              "<table border=\"1\" class=\"dataframe\">\n",
              "  <thead>\n",
              "    <tr style=\"text-align: right;\">\n",
              "      <th></th>\n",
              "      <th>total_of_special_requests</th>\n",
              "      <th>has_made_special_requests</th>\n",
              "    </tr>\n",
              "  </thead>\n",
              "  <tbody>\n",
              "    <tr>\n",
              "      <th>95658</th>\n",
              "      <td>0</td>\n",
              "      <td>0</td>\n",
              "    </tr>\n",
              "    <tr>\n",
              "      <th>27833</th>\n",
              "      <td>0</td>\n",
              "      <td>0</td>\n",
              "    </tr>\n",
              "    <tr>\n",
              "      <th>13400</th>\n",
              "      <td>0</td>\n",
              "      <td>0</td>\n",
              "    </tr>\n",
              "    <tr>\n",
              "      <th>77182</th>\n",
              "      <td>1</td>\n",
              "      <td>1</td>\n",
              "    </tr>\n",
              "    <tr>\n",
              "      <th>71020</th>\n",
              "      <td>1</td>\n",
              "      <td>1</td>\n",
              "    </tr>\n",
              "    <tr>\n",
              "      <th>34145</th>\n",
              "      <td>2</td>\n",
              "      <td>1</td>\n",
              "    </tr>\n",
              "    <tr>\n",
              "      <th>81041</th>\n",
              "      <td>2</td>\n",
              "      <td>1</td>\n",
              "    </tr>\n",
              "    <tr>\n",
              "      <th>102160</th>\n",
              "      <td>1</td>\n",
              "      <td>1</td>\n",
              "    </tr>\n",
              "    <tr>\n",
              "      <th>117131</th>\n",
              "      <td>1</td>\n",
              "      <td>1</td>\n",
              "    </tr>\n",
              "    <tr>\n",
              "      <th>83305</th>\n",
              "      <td>0</td>\n",
              "      <td>0</td>\n",
              "    </tr>\n",
              "  </tbody>\n",
              "</table>\n",
              "</div>\n",
              "    <div class=\"colab-df-buttons\">\n",
              "\n",
              "  <div class=\"colab-df-container\">\n",
              "    <button class=\"colab-df-convert\" onclick=\"convertToInteractive('df-4b926eee-f0c2-4824-84a8-bad54249ece2')\"\n",
              "            title=\"Convert this dataframe to an interactive table.\"\n",
              "            style=\"display:none;\">\n",
              "\n",
              "  <svg xmlns=\"http://www.w3.org/2000/svg\" height=\"24px\" viewBox=\"0 -960 960 960\">\n",
              "    <path d=\"M120-120v-720h720v720H120Zm60-500h600v-160H180v160Zm220 220h160v-160H400v160Zm0 220h160v-160H400v160ZM180-400h160v-160H180v160Zm440 0h160v-160H620v160ZM180-180h160v-160H180v160Zm440 0h160v-160H620v160Z\"/>\n",
              "  </svg>\n",
              "    </button>\n",
              "\n",
              "  <style>\n",
              "    .colab-df-container {\n",
              "      display:flex;\n",
              "      gap: 12px;\n",
              "    }\n",
              "\n",
              "    .colab-df-convert {\n",
              "      background-color: #E8F0FE;\n",
              "      border: none;\n",
              "      border-radius: 50%;\n",
              "      cursor: pointer;\n",
              "      display: none;\n",
              "      fill: #1967D2;\n",
              "      height: 32px;\n",
              "      padding: 0 0 0 0;\n",
              "      width: 32px;\n",
              "    }\n",
              "\n",
              "    .colab-df-convert:hover {\n",
              "      background-color: #E2EBFA;\n",
              "      box-shadow: 0px 1px 2px rgba(60, 64, 67, 0.3), 0px 1px 3px 1px rgba(60, 64, 67, 0.15);\n",
              "      fill: #174EA6;\n",
              "    }\n",
              "\n",
              "    .colab-df-buttons div {\n",
              "      margin-bottom: 4px;\n",
              "    }\n",
              "\n",
              "    [theme=dark] .colab-df-convert {\n",
              "      background-color: #3B4455;\n",
              "      fill: #D2E3FC;\n",
              "    }\n",
              "\n",
              "    [theme=dark] .colab-df-convert:hover {\n",
              "      background-color: #434B5C;\n",
              "      box-shadow: 0px 1px 3px 1px rgba(0, 0, 0, 0.15);\n",
              "      filter: drop-shadow(0px 1px 2px rgba(0, 0, 0, 0.3));\n",
              "      fill: #FFFFFF;\n",
              "    }\n",
              "  </style>\n",
              "\n",
              "    <script>\n",
              "      const buttonEl =\n",
              "        document.querySelector('#df-4b926eee-f0c2-4824-84a8-bad54249ece2 button.colab-df-convert');\n",
              "      buttonEl.style.display =\n",
              "        google.colab.kernel.accessAllowed ? 'block' : 'none';\n",
              "\n",
              "      async function convertToInteractive(key) {\n",
              "        const element = document.querySelector('#df-4b926eee-f0c2-4824-84a8-bad54249ece2');\n",
              "        const dataTable =\n",
              "          await google.colab.kernel.invokeFunction('convertToInteractive',\n",
              "                                                    [key], {});\n",
              "        if (!dataTable) return;\n",
              "\n",
              "        const docLinkHtml = 'Like what you see? Visit the ' +\n",
              "          '<a target=\"_blank\" href=https://colab.research.google.com/notebooks/data_table.ipynb>data table notebook</a>'\n",
              "          + ' to learn more about interactive tables.';\n",
              "        element.innerHTML = '';\n",
              "        dataTable['output_type'] = 'display_data';\n",
              "        await google.colab.output.renderOutput(dataTable, element);\n",
              "        const docLink = document.createElement('div');\n",
              "        docLink.innerHTML = docLinkHtml;\n",
              "        element.appendChild(docLink);\n",
              "      }\n",
              "    </script>\n",
              "  </div>\n",
              "\n",
              "\n",
              "    <div id=\"df-35168142-baf1-47a7-a271-162a5ecc9520\">\n",
              "      <button class=\"colab-df-quickchart\" onclick=\"quickchart('df-35168142-baf1-47a7-a271-162a5ecc9520')\"\n",
              "                title=\"Suggest charts\"\n",
              "                style=\"display:none;\">\n",
              "\n",
              "<svg xmlns=\"http://www.w3.org/2000/svg\" height=\"24px\"viewBox=\"0 0 24 24\"\n",
              "     width=\"24px\">\n",
              "    <g>\n",
              "        <path d=\"M19 3H5c-1.1 0-2 .9-2 2v14c0 1.1.9 2 2 2h14c1.1 0 2-.9 2-2V5c0-1.1-.9-2-2-2zM9 17H7v-7h2v7zm4 0h-2V7h2v10zm4 0h-2v-4h2v4z\"/>\n",
              "    </g>\n",
              "</svg>\n",
              "      </button>\n",
              "\n",
              "<style>\n",
              "  .colab-df-quickchart {\n",
              "      --bg-color: #E8F0FE;\n",
              "      --fill-color: #1967D2;\n",
              "      --hover-bg-color: #E2EBFA;\n",
              "      --hover-fill-color: #174EA6;\n",
              "      --disabled-fill-color: #AAA;\n",
              "      --disabled-bg-color: #DDD;\n",
              "  }\n",
              "\n",
              "  [theme=dark] .colab-df-quickchart {\n",
              "      --bg-color: #3B4455;\n",
              "      --fill-color: #D2E3FC;\n",
              "      --hover-bg-color: #434B5C;\n",
              "      --hover-fill-color: #FFFFFF;\n",
              "      --disabled-bg-color: #3B4455;\n",
              "      --disabled-fill-color: #666;\n",
              "  }\n",
              "\n",
              "  .colab-df-quickchart {\n",
              "    background-color: var(--bg-color);\n",
              "    border: none;\n",
              "    border-radius: 50%;\n",
              "    cursor: pointer;\n",
              "    display: none;\n",
              "    fill: var(--fill-color);\n",
              "    height: 32px;\n",
              "    padding: 0;\n",
              "    width: 32px;\n",
              "  }\n",
              "\n",
              "  .colab-df-quickchart:hover {\n",
              "    background-color: var(--hover-bg-color);\n",
              "    box-shadow: 0 1px 2px rgba(60, 64, 67, 0.3), 0 1px 3px 1px rgba(60, 64, 67, 0.15);\n",
              "    fill: var(--button-hover-fill-color);\n",
              "  }\n",
              "\n",
              "  .colab-df-quickchart-complete:disabled,\n",
              "  .colab-df-quickchart-complete:disabled:hover {\n",
              "    background-color: var(--disabled-bg-color);\n",
              "    fill: var(--disabled-fill-color);\n",
              "    box-shadow: none;\n",
              "  }\n",
              "\n",
              "  .colab-df-spinner {\n",
              "    border: 2px solid var(--fill-color);\n",
              "    border-color: transparent;\n",
              "    border-bottom-color: var(--fill-color);\n",
              "    animation:\n",
              "      spin 1s steps(1) infinite;\n",
              "  }\n",
              "\n",
              "  @keyframes spin {\n",
              "    0% {\n",
              "      border-color: transparent;\n",
              "      border-bottom-color: var(--fill-color);\n",
              "      border-left-color: var(--fill-color);\n",
              "    }\n",
              "    20% {\n",
              "      border-color: transparent;\n",
              "      border-left-color: var(--fill-color);\n",
              "      border-top-color: var(--fill-color);\n",
              "    }\n",
              "    30% {\n",
              "      border-color: transparent;\n",
              "      border-left-color: var(--fill-color);\n",
              "      border-top-color: var(--fill-color);\n",
              "      border-right-color: var(--fill-color);\n",
              "    }\n",
              "    40% {\n",
              "      border-color: transparent;\n",
              "      border-right-color: var(--fill-color);\n",
              "      border-top-color: var(--fill-color);\n",
              "    }\n",
              "    60% {\n",
              "      border-color: transparent;\n",
              "      border-right-color: var(--fill-color);\n",
              "    }\n",
              "    80% {\n",
              "      border-color: transparent;\n",
              "      border-right-color: var(--fill-color);\n",
              "      border-bottom-color: var(--fill-color);\n",
              "    }\n",
              "    90% {\n",
              "      border-color: transparent;\n",
              "      border-bottom-color: var(--fill-color);\n",
              "    }\n",
              "  }\n",
              "</style>\n",
              "\n",
              "      <script>\n",
              "        async function quickchart(key) {\n",
              "          const quickchartButtonEl =\n",
              "            document.querySelector('#' + key + ' button');\n",
              "          quickchartButtonEl.disabled = true;  // To prevent multiple clicks.\n",
              "          quickchartButtonEl.classList.add('colab-df-spinner');\n",
              "          try {\n",
              "            const charts = await google.colab.kernel.invokeFunction(\n",
              "                'suggestCharts', [key], {});\n",
              "          } catch (error) {\n",
              "            console.error('Error during call to suggestCharts:', error);\n",
              "          }\n",
              "          quickchartButtonEl.classList.remove('colab-df-spinner');\n",
              "          quickchartButtonEl.classList.add('colab-df-quickchart-complete');\n",
              "        }\n",
              "        (() => {\n",
              "          let quickchartButtonEl =\n",
              "            document.querySelector('#df-35168142-baf1-47a7-a271-162a5ecc9520 button');\n",
              "          quickchartButtonEl.style.display =\n",
              "            google.colab.kernel.accessAllowed ? 'block' : 'none';\n",
              "        })();\n",
              "      </script>\n",
              "    </div>\n",
              "\n",
              "    </div>\n",
              "  </div>\n"
            ],
            "application/vnd.google.colaboratory.intrinsic+json": {
              "type": "dataframe",
              "summary": "{\n  \"name\": \"_[['total_of_special_requests', 'has_made_special_requests']]\",\n  \"rows\": 10,\n  \"fields\": [\n    {\n      \"column\": \"total_of_special_requests\",\n      \"properties\": {\n        \"dtype\": \"number\",\n        \"std\": 0,\n        \"min\": 0,\n        \"max\": 2,\n        \"num_unique_values\": 3,\n        \"samples\": [\n          0,\n          1,\n          2\n        ],\n        \"semantic_type\": \"\",\n        \"description\": \"\"\n      }\n    },\n    {\n      \"column\": \"has_made_special_requests\",\n      \"properties\": {\n        \"dtype\": \"number\",\n        \"std\": 0,\n        \"min\": 0,\n        \"max\": 1,\n        \"num_unique_values\": 2,\n        \"samples\": [\n          1,\n          0\n        ],\n        \"semantic_type\": \"\",\n        \"description\": \"\"\n      }\n    }\n  ]\n}"
            }
          },
          "metadata": {},
          "execution_count": 23
        }
      ],
      "source": [
        "_ = train_x.copy()\n",
        "binarizer.fit(_[['total_of_special_requests']])\n",
        "_['has_made_special_requests'] = binarizer.transform(train_x[['total_of_special_requests']])\n",
        "\n",
        "_[['total_of_special_requests', 'has_made_special_requests']].sample(10)"
      ]
    },
    {
      "cell_type": "markdown",
      "id": "3f8b7727-b7a6-4d0f-9307-5e6ea55b566b",
      "metadata": {
        "id": "3f8b7727-b7a6-4d0f-9307-5e6ea55b566b"
      },
      "source": [
        "## Variables a escalar\n",
        "\n",
        " - adr"
      ]
    },
    {
      "cell_type": "code",
      "execution_count": null,
      "id": "fd82605f-e8c1-45fe-9580-9d3d81cc7f72",
      "metadata": {
        "tags": [],
        "id": "fd82605f-e8c1-45fe-9580-9d3d81cc7f72"
      },
      "outputs": [],
      "source": [
        "from sklearn.preprocessing import RobustScaler"
      ]
    },
    {
      "cell_type": "code",
      "execution_count": null,
      "id": "a8062d36-aae6-4fd4-96ca-c2248e3c01ba",
      "metadata": {
        "tags": [],
        "id": "a8062d36-aae6-4fd4-96ca-c2248e3c01ba"
      },
      "outputs": [],
      "source": [
        "scaler = RobustScaler()"
      ]
    },
    {
      "cell_type": "code",
      "execution_count": null,
      "id": "bae1bae3-1d25-4be3-842f-1adc12716699",
      "metadata": {
        "tags": [],
        "id": "bae1bae3-1d25-4be3-842f-1adc12716699",
        "outputId": "ede7badf-7b4f-40f5-fc3d-6d621e915854"
      },
      "outputs": [
        {
          "data": {
            "text/html": [
              "<div>\n",
              "<style scoped>\n",
              "    .dataframe tbody tr th:only-of-type {\n",
              "        vertical-align: middle;\n",
              "    }\n",
              "\n",
              "    .dataframe tbody tr th {\n",
              "        vertical-align: top;\n",
              "    }\n",
              "\n",
              "    .dataframe thead th {\n",
              "        text-align: right;\n",
              "    }\n",
              "</style>\n",
              "<table border=\"1\" class=\"dataframe\">\n",
              "  <thead>\n",
              "    <tr style=\"text-align: right;\">\n",
              "      <th></th>\n",
              "      <th>adr</th>\n",
              "      <th>adr_scaled</th>\n",
              "    </tr>\n",
              "  </thead>\n",
              "  <tbody>\n",
              "    <tr>\n",
              "      <th>77403</th>\n",
              "      <td>136.00</td>\n",
              "      <td>0.728070</td>\n",
              "    </tr>\n",
              "    <tr>\n",
              "      <th>17884</th>\n",
              "      <td>128.00</td>\n",
              "      <td>0.587719</td>\n",
              "    </tr>\n",
              "    <tr>\n",
              "      <th>10509</th>\n",
              "      <td>62.80</td>\n",
              "      <td>-0.556140</td>\n",
              "    </tr>\n",
              "    <tr>\n",
              "      <th>40555</th>\n",
              "      <td>111.92</td>\n",
              "      <td>0.305614</td>\n",
              "    </tr>\n",
              "    <tr>\n",
              "      <th>56880</th>\n",
              "      <td>177.50</td>\n",
              "      <td>1.456140</td>\n",
              "    </tr>\n",
              "    <tr>\n",
              "      <th>25399</th>\n",
              "      <td>288.03</td>\n",
              "      <td>3.395263</td>\n",
              "    </tr>\n",
              "    <tr>\n",
              "      <th>118718</th>\n",
              "      <td>34.00</td>\n",
              "      <td>-1.061404</td>\n",
              "    </tr>\n",
              "    <tr>\n",
              "      <th>86244</th>\n",
              "      <td>52.00</td>\n",
              "      <td>-0.745614</td>\n",
              "    </tr>\n",
              "    <tr>\n",
              "      <th>63141</th>\n",
              "      <td>75.00</td>\n",
              "      <td>-0.342105</td>\n",
              "    </tr>\n",
              "    <tr>\n",
              "      <th>33587</th>\n",
              "      <td>88.40</td>\n",
              "      <td>-0.107018</td>\n",
              "    </tr>\n",
              "  </tbody>\n",
              "</table>\n",
              "</div>"
            ],
            "text/plain": [
              "           adr  adr_scaled\n",
              "77403   136.00    0.728070\n",
              "17884   128.00    0.587719\n",
              "10509    62.80   -0.556140\n",
              "40555   111.92    0.305614\n",
              "56880   177.50    1.456140\n",
              "25399   288.03    3.395263\n",
              "118718   34.00   -1.061404\n",
              "86244    52.00   -0.745614\n",
              "63141    75.00   -0.342105\n",
              "33587    88.40   -0.107018"
            ]
          },
          "execution_count": 22,
          "metadata": {},
          "output_type": "execute_result"
        }
      ],
      "source": [
        "_ = train_x.copy()\n",
        "scaler.fit(_[['adr']])\n",
        "_['adr_scaled'] = scaler.transform(train_x[['adr']])\n",
        "\n",
        "_[['adr', 'adr_scaled']].sample(10)"
      ]
    },
    {
      "cell_type": "markdown",
      "id": "715aa02d-799e-4d75-a789-f69b7db7c3ba",
      "metadata": {
        "id": "715aa02d-799e-4d75-a789-f69b7db7c3ba"
      },
      "source": [
        "## Variables a dejar como tal\n",
        "\n",
        " - stays_in_weekend_nights, stays_in_week_nights\n",
        "\n",
        "\n",
        " > El tratamiento de estas depende del modelo a usar"
      ]
    },
    {
      "cell_type": "markdown",
      "id": "23973d66-5eee-4077-80a7-a1be42114d17",
      "metadata": {
        "id": "23973d66-5eee-4077-80a7-a1be42114d17"
      },
      "source": [
        "## Armando un pipeline de transformación"
      ]
    },
    {
      "cell_type": "code",
      "execution_count": null,
      "id": "a97ca091-ae68-4e11-9f8f-2466427764ce",
      "metadata": {
        "tags": [],
        "id": "a97ca091-ae68-4e11-9f8f-2466427764ce"
      },
      "outputs": [],
      "source": [
        "from sklearn.compose import ColumnTransformer\n",
        "from sklearn.pipeline import FeatureUnion, Pipeline"
      ]
    },
    {
      "cell_type": "code",
      "execution_count": null,
      "id": "37ec4bcc-fd3e-415f-9e62-660507317bef",
      "metadata": {
        "tags": [],
        "id": "37ec4bcc-fd3e-415f-9e62-660507317bef"
      },
      "outputs": [],
      "source": [
        "one_hot_encoding = ColumnTransformer([\n",
        "    (\n",
        "        'one_hot_encode',\n",
        "        OneHotEncoder(sparse_output=False, handle_unknown=\"ignore\"),\n",
        "        [\n",
        "            \"hotel\",\n",
        "            \"meal\",\n",
        "            \"distribution_channel\",\n",
        "            \"reserved_room_type\",\n",
        "            \"assigned_room_type\",\n",
        "            \"customer_type\"\n",
        "        ]\n",
        "    )\n",
        "])"
      ]
    },
    {
      "cell_type": "code",
      "execution_count": null,
      "id": "d1993793-a031-4bf2-92bc-a595f6d8df8c",
      "metadata": {
        "tags": [],
        "id": "d1993793-a031-4bf2-92bc-a595f6d8df8c"
      },
      "outputs": [],
      "source": [
        "binarizer = ColumnTransformer([\n",
        "    (\n",
        "        'binarizer',\n",
        "        Binarizer(),\n",
        "        [\n",
        "            \"total_of_special_requests\",\n",
        "            \"required_car_parking_spaces\",\n",
        "            \"booking_changes\",\n",
        "            \"previous_bookings_not_canceled\",\n",
        "            \"previous_cancellations\",\n",
        "        ]\n",
        "    )\n",
        "])\n",
        "\n",
        "one_hot_binarized = Pipeline([\n",
        "    (\"binarizer\", binarizer),\n",
        "    (\"one_hot_encoder\", OneHotEncoder(sparse_output=False, handle_unknown=\"ignore\")),\n",
        "])"
      ]
    },
    {
      "cell_type": "code",
      "execution_count": null,
      "id": "5ad2d2d6-36bf-4bc9-ba8f-0cfecc46a0b7",
      "metadata": {
        "tags": [],
        "id": "5ad2d2d6-36bf-4bc9-ba8f-0cfecc46a0b7"
      },
      "outputs": [],
      "source": [
        "scaler = ColumnTransformer([\n",
        "    (\"scaler\", RobustScaler(), [\"adr\"])\n",
        "])"
      ]
    },
    {
      "cell_type": "code",
      "execution_count": null,
      "id": "4064ab04-77a0-4283-a8b1-77d766f44a6f",
      "metadata": {
        "tags": [],
        "id": "4064ab04-77a0-4283-a8b1-77d766f44a6f"
      },
      "outputs": [],
      "source": [
        "passthrough = ColumnTransformer([\n",
        "    (\n",
        "        \"passthrough\",\n",
        "        \"passthrough\",\n",
        "        [\n",
        "            \"stays_in_week_nights\",\n",
        "            \"stays_in_weekend_nights\",\n",
        "        ]\n",
        "    )\n",
        "])"
      ]
    },
    {
      "cell_type": "code",
      "execution_count": null,
      "id": "c4a17765-a40f-4029-ba7b-76decb8a986a",
      "metadata": {
        "tags": [],
        "id": "c4a17765-a40f-4029-ba7b-76decb8a986a"
      },
      "outputs": [],
      "source": [
        "feature_engineering_pipeline = pipe = Pipeline(\n",
        "    [\n",
        "        (\n",
        "            \"features\",\n",
        "            FeatureUnion(\n",
        "                [\n",
        "                    (\"categorical\", one_hot_encoding),\n",
        "                    (\"categorical_binarized\", one_hot_binarized),\n",
        "                    (\"scaled\", scaler),\n",
        "                    (\"pass\", passthrough),\n",
        "                ]\n",
        "            ),\n",
        "        )\n",
        "    ]\n",
        ")"
      ]
    },
    {
      "cell_type": "code",
      "execution_count": null,
      "id": "f472ec43-9f1a-4f9e-8454-d45e9d30447f",
      "metadata": {
        "tags": [],
        "id": "f472ec43-9f1a-4f9e-8454-d45e9d30447f",
        "outputId": "e0f06cfb-7ca3-4ebb-cb1e-349f38e38363"
      },
      "outputs": [
        {
          "data": {
            "text/plain": [
              "(71514, 50)"
            ]
          },
          "execution_count": 29,
          "metadata": {},
          "output_type": "execute_result"
        }
      ],
      "source": [
        "transformed = feature_engineering_pipeline.fit_transform(train_x)\n",
        "transformed.shape"
      ]
    },
    {
      "cell_type": "code",
      "execution_count": null,
      "id": "05b87f6f-3410-4ef9-a35f-1c8020e0e032",
      "metadata": {
        "tags": [],
        "id": "05b87f6f-3410-4ef9-a35f-1c8020e0e032",
        "outputId": "6268ff91-b503-4e5c-94f8-7fe5f782f6f5"
      },
      "outputs": [
        {
          "data": {
            "text/plain": [
              "array([[ 0.        ,  1.        ,  0.        , ..., -0.64035088,\n",
              "         2.        ,  2.        ],\n",
              "       [ 0.        ,  1.        ,  0.        , ..., -0.85087719,\n",
              "         3.        ,  0.        ],\n",
              "       [ 1.        ,  0.        ,  1.        , ..., -0.57017544,\n",
              "         1.        ,  1.        ],\n",
              "       ...,\n",
              "       [ 1.        ,  0.        ,  1.        , ...,  0.50526316,\n",
              "         3.        ,  2.        ],\n",
              "       [ 1.        ,  0.        ,  0.        , ..., -0.69807018,\n",
              "         2.        ,  2.        ],\n",
              "       [ 1.        ,  0.        ,  1.        , ...,  0.68350877,\n",
              "         5.        ,  2.        ]])"
            ]
          },
          "execution_count": 30,
          "metadata": {},
          "output_type": "execute_result"
        }
      ],
      "source": [
        "transformed"
      ]
    },
    {
      "cell_type": "markdown",
      "id": "a3042008-c1b8-4ff2-95f9-b2e59801024a",
      "metadata": {
        "id": "a3042008-c1b8-4ff2-95f9-b2e59801024a"
      },
      "source": [
        "## Model training"
      ]
    },
    {
      "cell_type": "code",
      "execution_count": null,
      "id": "f1b52b98-96ba-4c4b-89c8-28cb0231fff8",
      "metadata": {
        "tags": [],
        "id": "f1b52b98-96ba-4c4b-89c8-28cb0231fff8"
      },
      "outputs": [],
      "source": [
        "# Get a fresh copy of the pipeline\n",
        "from sklearn.base import clone\n",
        "\n",
        "feature_transformer = clone(feature_engineering_pipeline)\n",
        "\n",
        "features_train_x = feature_transformer.fit_transform(train_x)\n",
        "features_validate_x = feature_transformer.transform(validate_x)"
      ]
    },
    {
      "cell_type": "code",
      "execution_count": null,
      "id": "63a44b2e-4e78-4eed-94f3-c549d5738eb6",
      "metadata": {
        "tags": [],
        "id": "63a44b2e-4e78-4eed-94f3-c549d5738eb6",
        "outputId": "4d54379a-b563-40d7-f686-b02dd65b8958"
      },
      "outputs": [
        {
          "data": {
            "text/html": [
              "<style>#sk-container-id-1 {color: black;background-color: white;}#sk-container-id-1 pre{padding: 0;}#sk-container-id-1 div.sk-toggleable {background-color: white;}#sk-container-id-1 label.sk-toggleable__label {cursor: pointer;display: block;width: 100%;margin-bottom: 0;padding: 0.3em;box-sizing: border-box;text-align: center;}#sk-container-id-1 label.sk-toggleable__label-arrow:before {content: \"▸\";float: left;margin-right: 0.25em;color: #696969;}#sk-container-id-1 label.sk-toggleable__label-arrow:hover:before {color: black;}#sk-container-id-1 div.sk-estimator:hover label.sk-toggleable__label-arrow:before {color: black;}#sk-container-id-1 div.sk-toggleable__content {max-height: 0;max-width: 0;overflow: hidden;text-align: left;background-color: #f0f8ff;}#sk-container-id-1 div.sk-toggleable__content pre {margin: 0.2em;color: black;border-radius: 0.25em;background-color: #f0f8ff;}#sk-container-id-1 input.sk-toggleable__control:checked~div.sk-toggleable__content {max-height: 200px;max-width: 100%;overflow: auto;}#sk-container-id-1 input.sk-toggleable__control:checked~label.sk-toggleable__label-arrow:before {content: \"▾\";}#sk-container-id-1 div.sk-estimator input.sk-toggleable__control:checked~label.sk-toggleable__label {background-color: #d4ebff;}#sk-container-id-1 div.sk-label input.sk-toggleable__control:checked~label.sk-toggleable__label {background-color: #d4ebff;}#sk-container-id-1 input.sk-hidden--visually {border: 0;clip: rect(1px 1px 1px 1px);clip: rect(1px, 1px, 1px, 1px);height: 1px;margin: -1px;overflow: hidden;padding: 0;position: absolute;width: 1px;}#sk-container-id-1 div.sk-estimator {font-family: monospace;background-color: #f0f8ff;border: 1px dotted black;border-radius: 0.25em;box-sizing: border-box;margin-bottom: 0.5em;}#sk-container-id-1 div.sk-estimator:hover {background-color: #d4ebff;}#sk-container-id-1 div.sk-parallel-item::after {content: \"\";width: 100%;border-bottom: 1px solid gray;flex-grow: 1;}#sk-container-id-1 div.sk-label:hover label.sk-toggleable__label {background-color: #d4ebff;}#sk-container-id-1 div.sk-serial::before {content: \"\";position: absolute;border-left: 1px solid gray;box-sizing: border-box;top: 0;bottom: 0;left: 50%;z-index: 0;}#sk-container-id-1 div.sk-serial {display: flex;flex-direction: column;align-items: center;background-color: white;padding-right: 0.2em;padding-left: 0.2em;position: relative;}#sk-container-id-1 div.sk-item {position: relative;z-index: 1;}#sk-container-id-1 div.sk-parallel {display: flex;align-items: stretch;justify-content: center;background-color: white;position: relative;}#sk-container-id-1 div.sk-item::before, #sk-container-id-1 div.sk-parallel-item::before {content: \"\";position: absolute;border-left: 1px solid gray;box-sizing: border-box;top: 0;bottom: 0;left: 50%;z-index: -1;}#sk-container-id-1 div.sk-parallel-item {display: flex;flex-direction: column;z-index: 1;position: relative;background-color: white;}#sk-container-id-1 div.sk-parallel-item:first-child::after {align-self: flex-end;width: 50%;}#sk-container-id-1 div.sk-parallel-item:last-child::after {align-self: flex-start;width: 50%;}#sk-container-id-1 div.sk-parallel-item:only-child::after {width: 0;}#sk-container-id-1 div.sk-dashed-wrapped {border: 1px dashed gray;margin: 0 0.4em 0.5em 0.4em;box-sizing: border-box;padding-bottom: 0.4em;background-color: white;}#sk-container-id-1 div.sk-label label {font-family: monospace;font-weight: bold;display: inline-block;line-height: 1.2em;}#sk-container-id-1 div.sk-label-container {text-align: center;}#sk-container-id-1 div.sk-container {/* jupyter's `normalize.less` sets `[hidden] { display: none; }` but bootstrap.min.css set `[hidden] { display: none !important; }` so we also need the `!important` here to be able to override the default hidden behavior on the sphinx rendered scikit-learn.org. See: https://github.com/scikit-learn/scikit-learn/issues/21755 */display: inline-block !important;position: relative;}#sk-container-id-1 div.sk-text-repr-fallback {display: none;}</style><div id=\"sk-container-id-1\" class=\"sk-top-container\"><div class=\"sk-text-repr-fallback\"><pre>RandomForestClassifier()</pre><b>In a Jupyter environment, please rerun this cell to show the HTML representation or trust the notebook. <br />On GitHub, the HTML representation is unable to render, please try loading this page with nbviewer.org.</b></div><div class=\"sk-container\" hidden><div class=\"sk-item\"><div class=\"sk-estimator sk-toggleable\"><input class=\"sk-toggleable__control sk-hidden--visually\" id=\"sk-estimator-id-1\" type=\"checkbox\" checked><label for=\"sk-estimator-id-1\" class=\"sk-toggleable__label sk-toggleable__label-arrow\">RandomForestClassifier</label><div class=\"sk-toggleable__content\"><pre>RandomForestClassifier()</pre></div></div></div></div></div>"
            ],
            "text/plain": [
              "RandomForestClassifier()"
            ]
          },
          "execution_count": 32,
          "metadata": {},
          "output_type": "execute_result"
        }
      ],
      "source": [
        "from sklearn.ensemble import RandomForestClassifier\n",
        "from sklearn.svm import LinearSVC\n",
        "\n",
        "model = RandomForestClassifier(n_estimators=100)\n",
        "\n",
        "model.fit(features_train_x, train_y)"
      ]
    },
    {
      "cell_type": "markdown",
      "id": "41a5b2ec-9a8d-4421-be0a-7a50ede5f1d5",
      "metadata": {
        "tags": [],
        "id": "41a5b2ec-9a8d-4421-be0a-7a50ede5f1d5"
      },
      "source": [
        "## Model validation"
      ]
    },
    {
      "cell_type": "code",
      "execution_count": null,
      "id": "37d12e50-c19d-45ba-a273-8857fc57cec5",
      "metadata": {
        "tags": [],
        "id": "37d12e50-c19d-45ba-a273-8857fc57cec5",
        "outputId": "fc6c5e96-b296-417e-d16e-7fee0db2e45e"
      },
      "outputs": [
        {
          "name": "stdout",
          "output_type": "stream",
          "text": [
            "0.8088346337780015\n",
            "0.7133807512780618\n"
          ]
        }
      ],
      "source": [
        "from sklearn.metrics import accuracy_score, recall_score\n",
        "\n",
        "pred_y = model.predict(features_validate_x)\n",
        "\n",
        "print(accuracy_score(validate_y, pred_y))\n",
        "print(recall_score(validate_y, pred_y))"
      ]
    },
    {
      "cell_type": "markdown",
      "id": "7aa7e093-9075-4183-b7a0-46e03fa1e2ed",
      "metadata": {
        "id": "7aa7e093-9075-4183-b7a0-46e03fa1e2ed"
      },
      "source": [
        "## Construcción del pipeline final"
      ]
    },
    {
      "cell_type": "code",
      "execution_count": null,
      "id": "7e06f9f2-5f5e-46ea-96a9-1409ddd88e4c",
      "metadata": {
        "tags": [],
        "id": "7e06f9f2-5f5e-46ea-96a9-1409ddd88e4c"
      },
      "outputs": [],
      "source": [
        "final_inference_pipeline = Pipeline([\n",
        "    (\"feature_engineering\", clone(feature_engineering_pipeline)),\n",
        "    (\"model\", RandomForestClassifier(n_estimators=100))\n",
        "])"
      ]
    },
    {
      "cell_type": "code",
      "execution_count": null,
      "id": "8237715b-2cee-4cc1-bccf-965b9ea4f2f5",
      "metadata": {
        "tags": [],
        "id": "8237715b-2cee-4cc1-bccf-965b9ea4f2f5"
      },
      "outputs": [],
      "source": [
        "final_training_dataset = pd.concat([train_x, validate_x])\n",
        "final_training_response = pd.concat([train_y, validate_y])"
      ]
    },
    {
      "cell_type": "code",
      "execution_count": null,
      "id": "56931081-a95a-4721-967e-e52e5dba515b",
      "metadata": {
        "tags": [],
        "id": "56931081-a95a-4721-967e-e52e5dba515b"
      },
      "outputs": [],
      "source": [
        "final_inference_pipeline.fit(final_training_dataset, final_training_response)"
      ]
    },
    {
      "cell_type": "markdown",
      "id": "ad56c085-7e17-4450-ba0b-0877ec4891e5",
      "metadata": {
        "id": "ad56c085-7e17-4450-ba0b-0877ec4891e5"
      },
      "source": [
        "## Model testing\n"
      ]
    },
    {
      "cell_type": "code",
      "execution_count": null,
      "id": "3db8a762-f176-4187-aa2e-b78c9ffdb430",
      "metadata": {
        "tags": [],
        "id": "3db8a762-f176-4187-aa2e-b78c9ffdb430"
      },
      "outputs": [],
      "source": [
        "test_pred_y = final_inference_pipeline.predict(test_x)\n",
        "\n",
        "print(accuracy_score(test_pred_y, test_y))\n",
        "print(recall_score(test_pred_y, test_y))"
      ]
    },
    {
      "cell_type": "markdown",
      "id": "c366bf4b-771d-4464-a76a-87aa99caf1e6",
      "metadata": {
        "id": "c366bf4b-771d-4464-a76a-87aa99caf1e6"
      },
      "source": [
        "## Model persistence"
      ]
    },
    {
      "cell_type": "code",
      "execution_count": null,
      "id": "c3c48eac-7a97-4eea-b873-9aaecd820b25",
      "metadata": {
        "tags": [],
        "id": "c3c48eac-7a97-4eea-b873-9aaecd820b25"
      },
      "outputs": [],
      "source": [
        "from joblib import dump\n",
        "\n",
        "dump(final_inference_pipeline, \"inference_pipeline.joblib\")"
      ]
    },
    {
      "cell_type": "markdown",
      "id": "457feafb-2606-43c3-93df-bd2ae60a333d",
      "metadata": {
        "id": "457feafb-2606-43c3-93df-bd2ae60a333d"
      },
      "source": [
        "## Y entonces... ¿a quién le hablamos?"
      ]
    },
    {
      "cell_type": "code",
      "execution_count": null,
      "id": "aaeeb805-bda6-442e-b604-bd82e5c905d8",
      "metadata": {
        "tags": [],
        "id": "aaeeb805-bda6-442e-b604-bd82e5c905d8"
      },
      "outputs": [],
      "source": [
        "from joblib import load\n",
        "\n",
        "ultimate_inference_pipeline = load(\"inference_pipeline.joblib\")"
      ]
    },
    {
      "cell_type": "code",
      "execution_count": null,
      "id": "e5472bad-7084-4c67-b990-d70367820b4f",
      "metadata": {
        "tags": [],
        "id": "e5472bad-7084-4c67-b990-d70367820b4f"
      },
      "outputs": [],
      "source": [
        "new_customers = pd.read_csv(\"new_customers.csv\")\n",
        "new_customers.head()"
      ]
    },
    {
      "cell_type": "code",
      "execution_count": null,
      "id": "29160547-094b-48e4-88f1-2599fc939ac1",
      "metadata": {
        "tags": [],
        "id": "29160547-094b-48e4-88f1-2599fc939ac1"
      },
      "outputs": [],
      "source": [
        "new_customers['will_cancel'] = ultimate_inference_pipeline.predict(new_customers)\n",
        "new_customers[['proba_check_in', 'proba_cancel']] = ultimate_inference_pipeline.predict_proba(new_customers)"
      ]
    },
    {
      "cell_type": "code",
      "execution_count": null,
      "id": "d295ef5c-e4fc-4813-836a-31002d71e648",
      "metadata": {
        "tags": [],
        "id": "d295ef5c-e4fc-4813-836a-31002d71e648"
      },
      "outputs": [],
      "source": [
        "new_customers[['name', 'phone-number', 'will_cancel', 'proba_cancel']].sort_values(by='proba_cancel', ascending=False).head(20)"
      ]
    },
    {
      "cell_type": "markdown",
      "id": "b0f424da-fd0e-4e03-8c9e-b32ea092dbd7",
      "metadata": {
        "tags": [],
        "id": "b0f424da-fd0e-4e03-8c9e-b32ea092dbd7"
      },
      "source": [
        "## De tarea...\n",
        "\n",
        " - Entrena un modelo con *data leakage* y ve si es sospechosamente bueno\n",
        " - ¿Qué pasa si el cliente no recibió la habitación que solicitó? (`reserved_room_type` vs `assigned_room_type`)\n",
        " - No consideramos las fechas en las que iba a quedarse, ¿y si las incluyes en tu modelo?\n",
        " - ¿Podemos usar validación cruzada?\n",
        " - ¿Qué tal de la búsqueda de hiper parámetros?"
      ]
    },
    {
      "cell_type": "code",
      "execution_count": null,
      "id": "1d6255b2-05ce-414b-b11a-fb9a7b32f0e3",
      "metadata": {
        "id": "1d6255b2-05ce-414b-b11a-fb9a7b32f0e3"
      },
      "outputs": [],
      "source": []
    }
  ],
  "metadata": {
    "kernelspec": {
      "display_name": "Python 3 (ipykernel)",
      "language": "python",
      "name": "python3"
    },
    "language_info": {
      "codemirror_mode": {
        "name": "ipython",
        "version": 3
      },
      "file_extension": ".py",
      "mimetype": "text/x-python",
      "name": "python",
      "nbconvert_exporter": "python",
      "pygments_lexer": "ipython3",
      "version": "3.8.11"
    },
    "colab": {
      "provenance": [],
      "include_colab_link": true
    },
    "widgets": {
      "application/vnd.jupyter.widget-state+json": {
        "92bb4d4aff844be58a74326beba901f8": {
          "model_module": "@jupyter-widgets/controls",
          "model_name": "HBoxModel",
          "model_module_version": "1.5.0",
          "state": {
            "_dom_classes": [],
            "_model_module": "@jupyter-widgets/controls",
            "_model_module_version": "1.5.0",
            "_model_name": "HBoxModel",
            "_view_count": null,
            "_view_module": "@jupyter-widgets/controls",
            "_view_module_version": "1.5.0",
            "_view_name": "HBoxView",
            "box_style": "",
            "children": [
              "IPY_MODEL_1db3a9579dff4355897e6cb9e683617d",
              "IPY_MODEL_98b8e8fcf70f4987b3ff35c4bb9fa4fd",
              "IPY_MODEL_2a07b2dc9e1649cfa753aed235e9fbcc"
            ],
            "layout": "IPY_MODEL_59c4db6709c24bb4af88f5e3ab5ec120"
          }
        },
        "1db3a9579dff4355897e6cb9e683617d": {
          "model_module": "@jupyter-widgets/controls",
          "model_name": "HTMLModel",
          "model_module_version": "1.5.0",
          "state": {
            "_dom_classes": [],
            "_model_module": "@jupyter-widgets/controls",
            "_model_module_version": "1.5.0",
            "_model_name": "HTMLModel",
            "_view_count": null,
            "_view_module": "@jupyter-widgets/controls",
            "_view_module_version": "1.5.0",
            "_view_name": "HTMLView",
            "description": "",
            "description_tooltip": null,
            "layout": "IPY_MODEL_c7ac448dc9274f2da74c1a7c31528020",
            "placeholder": "​",
            "style": "IPY_MODEL_08e2efef06374acab575c7c5a1b79482",
            "value": "Summarize dataset: 100%"
          }
        },
        "98b8e8fcf70f4987b3ff35c4bb9fa4fd": {
          "model_module": "@jupyter-widgets/controls",
          "model_name": "FloatProgressModel",
          "model_module_version": "1.5.0",
          "state": {
            "_dom_classes": [],
            "_model_module": "@jupyter-widgets/controls",
            "_model_module_version": "1.5.0",
            "_model_name": "FloatProgressModel",
            "_view_count": null,
            "_view_module": "@jupyter-widgets/controls",
            "_view_module_version": "1.5.0",
            "_view_name": "ProgressView",
            "bar_style": "success",
            "description": "",
            "description_tooltip": null,
            "layout": "IPY_MODEL_512c6841ffe04db684fdba168fe21cfd",
            "max": 5,
            "min": 0,
            "orientation": "horizontal",
            "style": "IPY_MODEL_ea63cc6ad3164a589164e9d131d25515",
            "value": 5
          }
        },
        "2a07b2dc9e1649cfa753aed235e9fbcc": {
          "model_module": "@jupyter-widgets/controls",
          "model_name": "HTMLModel",
          "model_module_version": "1.5.0",
          "state": {
            "_dom_classes": [],
            "_model_module": "@jupyter-widgets/controls",
            "_model_module_version": "1.5.0",
            "_model_name": "HTMLModel",
            "_view_count": null,
            "_view_module": "@jupyter-widgets/controls",
            "_view_module_version": "1.5.0",
            "_view_name": "HTMLView",
            "description": "",
            "description_tooltip": null,
            "layout": "IPY_MODEL_8eff0f688d474fb98e1a518ea39f440c",
            "placeholder": "​",
            "style": "IPY_MODEL_bf89762439b049a4beefabe79a125165",
            "value": " 238/238 [00:49&lt;00:00,  3.35it/s, Completed]"
          }
        },
        "59c4db6709c24bb4af88f5e3ab5ec120": {
          "model_module": "@jupyter-widgets/base",
          "model_name": "LayoutModel",
          "model_module_version": "1.2.0",
          "state": {
            "_model_module": "@jupyter-widgets/base",
            "_model_module_version": "1.2.0",
            "_model_name": "LayoutModel",
            "_view_count": null,
            "_view_module": "@jupyter-widgets/base",
            "_view_module_version": "1.2.0",
            "_view_name": "LayoutView",
            "align_content": null,
            "align_items": null,
            "align_self": null,
            "border": null,
            "bottom": null,
            "display": null,
            "flex": null,
            "flex_flow": null,
            "grid_area": null,
            "grid_auto_columns": null,
            "grid_auto_flow": null,
            "grid_auto_rows": null,
            "grid_column": null,
            "grid_gap": null,
            "grid_row": null,
            "grid_template_areas": null,
            "grid_template_columns": null,
            "grid_template_rows": null,
            "height": null,
            "justify_content": null,
            "justify_items": null,
            "left": null,
            "margin": null,
            "max_height": null,
            "max_width": null,
            "min_height": null,
            "min_width": null,
            "object_fit": null,
            "object_position": null,
            "order": null,
            "overflow": null,
            "overflow_x": null,
            "overflow_y": null,
            "padding": null,
            "right": null,
            "top": null,
            "visibility": null,
            "width": null
          }
        },
        "c7ac448dc9274f2da74c1a7c31528020": {
          "model_module": "@jupyter-widgets/base",
          "model_name": "LayoutModel",
          "model_module_version": "1.2.0",
          "state": {
            "_model_module": "@jupyter-widgets/base",
            "_model_module_version": "1.2.0",
            "_model_name": "LayoutModel",
            "_view_count": null,
            "_view_module": "@jupyter-widgets/base",
            "_view_module_version": "1.2.0",
            "_view_name": "LayoutView",
            "align_content": null,
            "align_items": null,
            "align_self": null,
            "border": null,
            "bottom": null,
            "display": null,
            "flex": null,
            "flex_flow": null,
            "grid_area": null,
            "grid_auto_columns": null,
            "grid_auto_flow": null,
            "grid_auto_rows": null,
            "grid_column": null,
            "grid_gap": null,
            "grid_row": null,
            "grid_template_areas": null,
            "grid_template_columns": null,
            "grid_template_rows": null,
            "height": null,
            "justify_content": null,
            "justify_items": null,
            "left": null,
            "margin": null,
            "max_height": null,
            "max_width": null,
            "min_height": null,
            "min_width": null,
            "object_fit": null,
            "object_position": null,
            "order": null,
            "overflow": null,
            "overflow_x": null,
            "overflow_y": null,
            "padding": null,
            "right": null,
            "top": null,
            "visibility": null,
            "width": null
          }
        },
        "08e2efef06374acab575c7c5a1b79482": {
          "model_module": "@jupyter-widgets/controls",
          "model_name": "DescriptionStyleModel",
          "model_module_version": "1.5.0",
          "state": {
            "_model_module": "@jupyter-widgets/controls",
            "_model_module_version": "1.5.0",
            "_model_name": "DescriptionStyleModel",
            "_view_count": null,
            "_view_module": "@jupyter-widgets/base",
            "_view_module_version": "1.2.0",
            "_view_name": "StyleView",
            "description_width": ""
          }
        },
        "512c6841ffe04db684fdba168fe21cfd": {
          "model_module": "@jupyter-widgets/base",
          "model_name": "LayoutModel",
          "model_module_version": "1.2.0",
          "state": {
            "_model_module": "@jupyter-widgets/base",
            "_model_module_version": "1.2.0",
            "_model_name": "LayoutModel",
            "_view_count": null,
            "_view_module": "@jupyter-widgets/base",
            "_view_module_version": "1.2.0",
            "_view_name": "LayoutView",
            "align_content": null,
            "align_items": null,
            "align_self": null,
            "border": null,
            "bottom": null,
            "display": null,
            "flex": null,
            "flex_flow": null,
            "grid_area": null,
            "grid_auto_columns": null,
            "grid_auto_flow": null,
            "grid_auto_rows": null,
            "grid_column": null,
            "grid_gap": null,
            "grid_row": null,
            "grid_template_areas": null,
            "grid_template_columns": null,
            "grid_template_rows": null,
            "height": null,
            "justify_content": null,
            "justify_items": null,
            "left": null,
            "margin": null,
            "max_height": null,
            "max_width": null,
            "min_height": null,
            "min_width": null,
            "object_fit": null,
            "object_position": null,
            "order": null,
            "overflow": null,
            "overflow_x": null,
            "overflow_y": null,
            "padding": null,
            "right": null,
            "top": null,
            "visibility": null,
            "width": null
          }
        },
        "ea63cc6ad3164a589164e9d131d25515": {
          "model_module": "@jupyter-widgets/controls",
          "model_name": "ProgressStyleModel",
          "model_module_version": "1.5.0",
          "state": {
            "_model_module": "@jupyter-widgets/controls",
            "_model_module_version": "1.5.0",
            "_model_name": "ProgressStyleModel",
            "_view_count": null,
            "_view_module": "@jupyter-widgets/base",
            "_view_module_version": "1.2.0",
            "_view_name": "StyleView",
            "bar_color": null,
            "description_width": ""
          }
        },
        "8eff0f688d474fb98e1a518ea39f440c": {
          "model_module": "@jupyter-widgets/base",
          "model_name": "LayoutModel",
          "model_module_version": "1.2.0",
          "state": {
            "_model_module": "@jupyter-widgets/base",
            "_model_module_version": "1.2.0",
            "_model_name": "LayoutModel",
            "_view_count": null,
            "_view_module": "@jupyter-widgets/base",
            "_view_module_version": "1.2.0",
            "_view_name": "LayoutView",
            "align_content": null,
            "align_items": null,
            "align_self": null,
            "border": null,
            "bottom": null,
            "display": null,
            "flex": null,
            "flex_flow": null,
            "grid_area": null,
            "grid_auto_columns": null,
            "grid_auto_flow": null,
            "grid_auto_rows": null,
            "grid_column": null,
            "grid_gap": null,
            "grid_row": null,
            "grid_template_areas": null,
            "grid_template_columns": null,
            "grid_template_rows": null,
            "height": null,
            "justify_content": null,
            "justify_items": null,
            "left": null,
            "margin": null,
            "max_height": null,
            "max_width": null,
            "min_height": null,
            "min_width": null,
            "object_fit": null,
            "object_position": null,
            "order": null,
            "overflow": null,
            "overflow_x": null,
            "overflow_y": null,
            "padding": null,
            "right": null,
            "top": null,
            "visibility": null,
            "width": null
          }
        },
        "bf89762439b049a4beefabe79a125165": {
          "model_module": "@jupyter-widgets/controls",
          "model_name": "DescriptionStyleModel",
          "model_module_version": "1.5.0",
          "state": {
            "_model_module": "@jupyter-widgets/controls",
            "_model_module_version": "1.5.0",
            "_model_name": "DescriptionStyleModel",
            "_view_count": null,
            "_view_module": "@jupyter-widgets/base",
            "_view_module_version": "1.2.0",
            "_view_name": "StyleView",
            "description_width": ""
          }
        },
        "4a05a3c3127942499851c0c8751f6735": {
          "model_module": "@jupyter-widgets/controls",
          "model_name": "HBoxModel",
          "model_module_version": "1.5.0",
          "state": {
            "_dom_classes": [],
            "_model_module": "@jupyter-widgets/controls",
            "_model_module_version": "1.5.0",
            "_model_name": "HBoxModel",
            "_view_count": null,
            "_view_module": "@jupyter-widgets/controls",
            "_view_module_version": "1.5.0",
            "_view_name": "HBoxView",
            "box_style": "",
            "children": [
              "IPY_MODEL_4ada255f1f1646da8e2f804a07453749",
              "IPY_MODEL_ee51474f9a66488489074f8d6035d0f5",
              "IPY_MODEL_5c08f1671b29418db542520df4a02cb5"
            ],
            "layout": "IPY_MODEL_f70ee5011fda4d42a4000626a705f697"
          }
        },
        "4ada255f1f1646da8e2f804a07453749": {
          "model_module": "@jupyter-widgets/controls",
          "model_name": "HTMLModel",
          "model_module_version": "1.5.0",
          "state": {
            "_dom_classes": [],
            "_model_module": "@jupyter-widgets/controls",
            "_model_module_version": "1.5.0",
            "_model_name": "HTMLModel",
            "_view_count": null,
            "_view_module": "@jupyter-widgets/controls",
            "_view_module_version": "1.5.0",
            "_view_name": "HTMLView",
            "description": "",
            "description_tooltip": null,
            "layout": "IPY_MODEL_3e7b45fd8b5e4e97b307905b07511c64",
            "placeholder": "​",
            "style": "IPY_MODEL_5f8aae3da1814b42b86f0b77a616e337",
            "value": "Generate report structure: 100%"
          }
        },
        "ee51474f9a66488489074f8d6035d0f5": {
          "model_module": "@jupyter-widgets/controls",
          "model_name": "FloatProgressModel",
          "model_module_version": "1.5.0",
          "state": {
            "_dom_classes": [],
            "_model_module": "@jupyter-widgets/controls",
            "_model_module_version": "1.5.0",
            "_model_name": "FloatProgressModel",
            "_view_count": null,
            "_view_module": "@jupyter-widgets/controls",
            "_view_module_version": "1.5.0",
            "_view_name": "ProgressView",
            "bar_style": "success",
            "description": "",
            "description_tooltip": null,
            "layout": "IPY_MODEL_8dc4cbe5be0f4052b6b8b927dc9e8321",
            "max": 1,
            "min": 0,
            "orientation": "horizontal",
            "style": "IPY_MODEL_81a6d81adedd4ef58e61a929d7c1d406",
            "value": 1
          }
        },
        "5c08f1671b29418db542520df4a02cb5": {
          "model_module": "@jupyter-widgets/controls",
          "model_name": "HTMLModel",
          "model_module_version": "1.5.0",
          "state": {
            "_dom_classes": [],
            "_model_module": "@jupyter-widgets/controls",
            "_model_module_version": "1.5.0",
            "_model_name": "HTMLModel",
            "_view_count": null,
            "_view_module": "@jupyter-widgets/controls",
            "_view_module_version": "1.5.0",
            "_view_name": "HTMLView",
            "description": "",
            "description_tooltip": null,
            "layout": "IPY_MODEL_f7cdd99e962e451b92d139d51e4e0a2b",
            "placeholder": "​",
            "style": "IPY_MODEL_e4c422cf895f4606828761a279956c64",
            "value": " 1/1 [00:10&lt;00:00, 10.17s/it]"
          }
        },
        "f70ee5011fda4d42a4000626a705f697": {
          "model_module": "@jupyter-widgets/base",
          "model_name": "LayoutModel",
          "model_module_version": "1.2.0",
          "state": {
            "_model_module": "@jupyter-widgets/base",
            "_model_module_version": "1.2.0",
            "_model_name": "LayoutModel",
            "_view_count": null,
            "_view_module": "@jupyter-widgets/base",
            "_view_module_version": "1.2.0",
            "_view_name": "LayoutView",
            "align_content": null,
            "align_items": null,
            "align_self": null,
            "border": null,
            "bottom": null,
            "display": null,
            "flex": null,
            "flex_flow": null,
            "grid_area": null,
            "grid_auto_columns": null,
            "grid_auto_flow": null,
            "grid_auto_rows": null,
            "grid_column": null,
            "grid_gap": null,
            "grid_row": null,
            "grid_template_areas": null,
            "grid_template_columns": null,
            "grid_template_rows": null,
            "height": null,
            "justify_content": null,
            "justify_items": null,
            "left": null,
            "margin": null,
            "max_height": null,
            "max_width": null,
            "min_height": null,
            "min_width": null,
            "object_fit": null,
            "object_position": null,
            "order": null,
            "overflow": null,
            "overflow_x": null,
            "overflow_y": null,
            "padding": null,
            "right": null,
            "top": null,
            "visibility": null,
            "width": null
          }
        },
        "3e7b45fd8b5e4e97b307905b07511c64": {
          "model_module": "@jupyter-widgets/base",
          "model_name": "LayoutModel",
          "model_module_version": "1.2.0",
          "state": {
            "_model_module": "@jupyter-widgets/base",
            "_model_module_version": "1.2.0",
            "_model_name": "LayoutModel",
            "_view_count": null,
            "_view_module": "@jupyter-widgets/base",
            "_view_module_version": "1.2.0",
            "_view_name": "LayoutView",
            "align_content": null,
            "align_items": null,
            "align_self": null,
            "border": null,
            "bottom": null,
            "display": null,
            "flex": null,
            "flex_flow": null,
            "grid_area": null,
            "grid_auto_columns": null,
            "grid_auto_flow": null,
            "grid_auto_rows": null,
            "grid_column": null,
            "grid_gap": null,
            "grid_row": null,
            "grid_template_areas": null,
            "grid_template_columns": null,
            "grid_template_rows": null,
            "height": null,
            "justify_content": null,
            "justify_items": null,
            "left": null,
            "margin": null,
            "max_height": null,
            "max_width": null,
            "min_height": null,
            "min_width": null,
            "object_fit": null,
            "object_position": null,
            "order": null,
            "overflow": null,
            "overflow_x": null,
            "overflow_y": null,
            "padding": null,
            "right": null,
            "top": null,
            "visibility": null,
            "width": null
          }
        },
        "5f8aae3da1814b42b86f0b77a616e337": {
          "model_module": "@jupyter-widgets/controls",
          "model_name": "DescriptionStyleModel",
          "model_module_version": "1.5.0",
          "state": {
            "_model_module": "@jupyter-widgets/controls",
            "_model_module_version": "1.5.0",
            "_model_name": "DescriptionStyleModel",
            "_view_count": null,
            "_view_module": "@jupyter-widgets/base",
            "_view_module_version": "1.2.0",
            "_view_name": "StyleView",
            "description_width": ""
          }
        },
        "8dc4cbe5be0f4052b6b8b927dc9e8321": {
          "model_module": "@jupyter-widgets/base",
          "model_name": "LayoutModel",
          "model_module_version": "1.2.0",
          "state": {
            "_model_module": "@jupyter-widgets/base",
            "_model_module_version": "1.2.0",
            "_model_name": "LayoutModel",
            "_view_count": null,
            "_view_module": "@jupyter-widgets/base",
            "_view_module_version": "1.2.0",
            "_view_name": "LayoutView",
            "align_content": null,
            "align_items": null,
            "align_self": null,
            "border": null,
            "bottom": null,
            "display": null,
            "flex": null,
            "flex_flow": null,
            "grid_area": null,
            "grid_auto_columns": null,
            "grid_auto_flow": null,
            "grid_auto_rows": null,
            "grid_column": null,
            "grid_gap": null,
            "grid_row": null,
            "grid_template_areas": null,
            "grid_template_columns": null,
            "grid_template_rows": null,
            "height": null,
            "justify_content": null,
            "justify_items": null,
            "left": null,
            "margin": null,
            "max_height": null,
            "max_width": null,
            "min_height": null,
            "min_width": null,
            "object_fit": null,
            "object_position": null,
            "order": null,
            "overflow": null,
            "overflow_x": null,
            "overflow_y": null,
            "padding": null,
            "right": null,
            "top": null,
            "visibility": null,
            "width": null
          }
        },
        "81a6d81adedd4ef58e61a929d7c1d406": {
          "model_module": "@jupyter-widgets/controls",
          "model_name": "ProgressStyleModel",
          "model_module_version": "1.5.0",
          "state": {
            "_model_module": "@jupyter-widgets/controls",
            "_model_module_version": "1.5.0",
            "_model_name": "ProgressStyleModel",
            "_view_count": null,
            "_view_module": "@jupyter-widgets/base",
            "_view_module_version": "1.2.0",
            "_view_name": "StyleView",
            "bar_color": null,
            "description_width": ""
          }
        },
        "f7cdd99e962e451b92d139d51e4e0a2b": {
          "model_module": "@jupyter-widgets/base",
          "model_name": "LayoutModel",
          "model_module_version": "1.2.0",
          "state": {
            "_model_module": "@jupyter-widgets/base",
            "_model_module_version": "1.2.0",
            "_model_name": "LayoutModel",
            "_view_count": null,
            "_view_module": "@jupyter-widgets/base",
            "_view_module_version": "1.2.0",
            "_view_name": "LayoutView",
            "align_content": null,
            "align_items": null,
            "align_self": null,
            "border": null,
            "bottom": null,
            "display": null,
            "flex": null,
            "flex_flow": null,
            "grid_area": null,
            "grid_auto_columns": null,
            "grid_auto_flow": null,
            "grid_auto_rows": null,
            "grid_column": null,
            "grid_gap": null,
            "grid_row": null,
            "grid_template_areas": null,
            "grid_template_columns": null,
            "grid_template_rows": null,
            "height": null,
            "justify_content": null,
            "justify_items": null,
            "left": null,
            "margin": null,
            "max_height": null,
            "max_width": null,
            "min_height": null,
            "min_width": null,
            "object_fit": null,
            "object_position": null,
            "order": null,
            "overflow": null,
            "overflow_x": null,
            "overflow_y": null,
            "padding": null,
            "right": null,
            "top": null,
            "visibility": null,
            "width": null
          }
        },
        "e4c422cf895f4606828761a279956c64": {
          "model_module": "@jupyter-widgets/controls",
          "model_name": "DescriptionStyleModel",
          "model_module_version": "1.5.0",
          "state": {
            "_model_module": "@jupyter-widgets/controls",
            "_model_module_version": "1.5.0",
            "_model_name": "DescriptionStyleModel",
            "_view_count": null,
            "_view_module": "@jupyter-widgets/base",
            "_view_module_version": "1.2.0",
            "_view_name": "StyleView",
            "description_width": ""
          }
        },
        "0308ab5937ed4990b5f067569efdb459": {
          "model_module": "@jupyter-widgets/controls",
          "model_name": "HBoxModel",
          "model_module_version": "1.5.0",
          "state": {
            "_dom_classes": [],
            "_model_module": "@jupyter-widgets/controls",
            "_model_module_version": "1.5.0",
            "_model_name": "HBoxModel",
            "_view_count": null,
            "_view_module": "@jupyter-widgets/controls",
            "_view_module_version": "1.5.0",
            "_view_name": "HBoxView",
            "box_style": "",
            "children": [
              "IPY_MODEL_e204ec8a58ca4b17963e42184f0587f2",
              "IPY_MODEL_3b71892f6bbd4b01a62d3f28b1014637",
              "IPY_MODEL_56220c736a394e218d3e68a8b6c545d9"
            ],
            "layout": "IPY_MODEL_49d0122103b6477eb0274b2571b4f7a6"
          }
        },
        "e204ec8a58ca4b17963e42184f0587f2": {
          "model_module": "@jupyter-widgets/controls",
          "model_name": "HTMLModel",
          "model_module_version": "1.5.0",
          "state": {
            "_dom_classes": [],
            "_model_module": "@jupyter-widgets/controls",
            "_model_module_version": "1.5.0",
            "_model_name": "HTMLModel",
            "_view_count": null,
            "_view_module": "@jupyter-widgets/controls",
            "_view_module_version": "1.5.0",
            "_view_name": "HTMLView",
            "description": "",
            "description_tooltip": null,
            "layout": "IPY_MODEL_ae163f098f5b4d5fa34f5f26b08a2e06",
            "placeholder": "​",
            "style": "IPY_MODEL_afb31b036c9144b8b4464db288c12270",
            "value": "Render HTML: 100%"
          }
        },
        "3b71892f6bbd4b01a62d3f28b1014637": {
          "model_module": "@jupyter-widgets/controls",
          "model_name": "FloatProgressModel",
          "model_module_version": "1.5.0",
          "state": {
            "_dom_classes": [],
            "_model_module": "@jupyter-widgets/controls",
            "_model_module_version": "1.5.0",
            "_model_name": "FloatProgressModel",
            "_view_count": null,
            "_view_module": "@jupyter-widgets/controls",
            "_view_module_version": "1.5.0",
            "_view_name": "ProgressView",
            "bar_style": "success",
            "description": "",
            "description_tooltip": null,
            "layout": "IPY_MODEL_0aab73be38c844158267a4587c2b9102",
            "max": 1,
            "min": 0,
            "orientation": "horizontal",
            "style": "IPY_MODEL_6b71f60b8a6a4388975aae9f5f99cd2d",
            "value": 1
          }
        },
        "56220c736a394e218d3e68a8b6c545d9": {
          "model_module": "@jupyter-widgets/controls",
          "model_name": "HTMLModel",
          "model_module_version": "1.5.0",
          "state": {
            "_dom_classes": [],
            "_model_module": "@jupyter-widgets/controls",
            "_model_module_version": "1.5.0",
            "_model_name": "HTMLModel",
            "_view_count": null,
            "_view_module": "@jupyter-widgets/controls",
            "_view_module_version": "1.5.0",
            "_view_name": "HTMLView",
            "description": "",
            "description_tooltip": null,
            "layout": "IPY_MODEL_d89716c93f214312858d1934aa0c2a0a",
            "placeholder": "​",
            "style": "IPY_MODEL_c7929856b9704e529ef5d30e2cd831c9",
            "value": " 1/1 [00:06&lt;00:00,  6.25s/it]"
          }
        },
        "49d0122103b6477eb0274b2571b4f7a6": {
          "model_module": "@jupyter-widgets/base",
          "model_name": "LayoutModel",
          "model_module_version": "1.2.0",
          "state": {
            "_model_module": "@jupyter-widgets/base",
            "_model_module_version": "1.2.0",
            "_model_name": "LayoutModel",
            "_view_count": null,
            "_view_module": "@jupyter-widgets/base",
            "_view_module_version": "1.2.0",
            "_view_name": "LayoutView",
            "align_content": null,
            "align_items": null,
            "align_self": null,
            "border": null,
            "bottom": null,
            "display": null,
            "flex": null,
            "flex_flow": null,
            "grid_area": null,
            "grid_auto_columns": null,
            "grid_auto_flow": null,
            "grid_auto_rows": null,
            "grid_column": null,
            "grid_gap": null,
            "grid_row": null,
            "grid_template_areas": null,
            "grid_template_columns": null,
            "grid_template_rows": null,
            "height": null,
            "justify_content": null,
            "justify_items": null,
            "left": null,
            "margin": null,
            "max_height": null,
            "max_width": null,
            "min_height": null,
            "min_width": null,
            "object_fit": null,
            "object_position": null,
            "order": null,
            "overflow": null,
            "overflow_x": null,
            "overflow_y": null,
            "padding": null,
            "right": null,
            "top": null,
            "visibility": null,
            "width": null
          }
        },
        "ae163f098f5b4d5fa34f5f26b08a2e06": {
          "model_module": "@jupyter-widgets/base",
          "model_name": "LayoutModel",
          "model_module_version": "1.2.0",
          "state": {
            "_model_module": "@jupyter-widgets/base",
            "_model_module_version": "1.2.0",
            "_model_name": "LayoutModel",
            "_view_count": null,
            "_view_module": "@jupyter-widgets/base",
            "_view_module_version": "1.2.0",
            "_view_name": "LayoutView",
            "align_content": null,
            "align_items": null,
            "align_self": null,
            "border": null,
            "bottom": null,
            "display": null,
            "flex": null,
            "flex_flow": null,
            "grid_area": null,
            "grid_auto_columns": null,
            "grid_auto_flow": null,
            "grid_auto_rows": null,
            "grid_column": null,
            "grid_gap": null,
            "grid_row": null,
            "grid_template_areas": null,
            "grid_template_columns": null,
            "grid_template_rows": null,
            "height": null,
            "justify_content": null,
            "justify_items": null,
            "left": null,
            "margin": null,
            "max_height": null,
            "max_width": null,
            "min_height": null,
            "min_width": null,
            "object_fit": null,
            "object_position": null,
            "order": null,
            "overflow": null,
            "overflow_x": null,
            "overflow_y": null,
            "padding": null,
            "right": null,
            "top": null,
            "visibility": null,
            "width": null
          }
        },
        "afb31b036c9144b8b4464db288c12270": {
          "model_module": "@jupyter-widgets/controls",
          "model_name": "DescriptionStyleModel",
          "model_module_version": "1.5.0",
          "state": {
            "_model_module": "@jupyter-widgets/controls",
            "_model_module_version": "1.5.0",
            "_model_name": "DescriptionStyleModel",
            "_view_count": null,
            "_view_module": "@jupyter-widgets/base",
            "_view_module_version": "1.2.0",
            "_view_name": "StyleView",
            "description_width": ""
          }
        },
        "0aab73be38c844158267a4587c2b9102": {
          "model_module": "@jupyter-widgets/base",
          "model_name": "LayoutModel",
          "model_module_version": "1.2.0",
          "state": {
            "_model_module": "@jupyter-widgets/base",
            "_model_module_version": "1.2.0",
            "_model_name": "LayoutModel",
            "_view_count": null,
            "_view_module": "@jupyter-widgets/base",
            "_view_module_version": "1.2.0",
            "_view_name": "LayoutView",
            "align_content": null,
            "align_items": null,
            "align_self": null,
            "border": null,
            "bottom": null,
            "display": null,
            "flex": null,
            "flex_flow": null,
            "grid_area": null,
            "grid_auto_columns": null,
            "grid_auto_flow": null,
            "grid_auto_rows": null,
            "grid_column": null,
            "grid_gap": null,
            "grid_row": null,
            "grid_template_areas": null,
            "grid_template_columns": null,
            "grid_template_rows": null,
            "height": null,
            "justify_content": null,
            "justify_items": null,
            "left": null,
            "margin": null,
            "max_height": null,
            "max_width": null,
            "min_height": null,
            "min_width": null,
            "object_fit": null,
            "object_position": null,
            "order": null,
            "overflow": null,
            "overflow_x": null,
            "overflow_y": null,
            "padding": null,
            "right": null,
            "top": null,
            "visibility": null,
            "width": null
          }
        },
        "6b71f60b8a6a4388975aae9f5f99cd2d": {
          "model_module": "@jupyter-widgets/controls",
          "model_name": "ProgressStyleModel",
          "model_module_version": "1.5.0",
          "state": {
            "_model_module": "@jupyter-widgets/controls",
            "_model_module_version": "1.5.0",
            "_model_name": "ProgressStyleModel",
            "_view_count": null,
            "_view_module": "@jupyter-widgets/base",
            "_view_module_version": "1.2.0",
            "_view_name": "StyleView",
            "bar_color": null,
            "description_width": ""
          }
        },
        "d89716c93f214312858d1934aa0c2a0a": {
          "model_module": "@jupyter-widgets/base",
          "model_name": "LayoutModel",
          "model_module_version": "1.2.0",
          "state": {
            "_model_module": "@jupyter-widgets/base",
            "_model_module_version": "1.2.0",
            "_model_name": "LayoutModel",
            "_view_count": null,
            "_view_module": "@jupyter-widgets/base",
            "_view_module_version": "1.2.0",
            "_view_name": "LayoutView",
            "align_content": null,
            "align_items": null,
            "align_self": null,
            "border": null,
            "bottom": null,
            "display": null,
            "flex": null,
            "flex_flow": null,
            "grid_area": null,
            "grid_auto_columns": null,
            "grid_auto_flow": null,
            "grid_auto_rows": null,
            "grid_column": null,
            "grid_gap": null,
            "grid_row": null,
            "grid_template_areas": null,
            "grid_template_columns": null,
            "grid_template_rows": null,
            "height": null,
            "justify_content": null,
            "justify_items": null,
            "left": null,
            "margin": null,
            "max_height": null,
            "max_width": null,
            "min_height": null,
            "min_width": null,
            "object_fit": null,
            "object_position": null,
            "order": null,
            "overflow": null,
            "overflow_x": null,
            "overflow_y": null,
            "padding": null,
            "right": null,
            "top": null,
            "visibility": null,
            "width": null
          }
        },
        "c7929856b9704e529ef5d30e2cd831c9": {
          "model_module": "@jupyter-widgets/controls",
          "model_name": "DescriptionStyleModel",
          "model_module_version": "1.5.0",
          "state": {
            "_model_module": "@jupyter-widgets/controls",
            "_model_module_version": "1.5.0",
            "_model_name": "DescriptionStyleModel",
            "_view_count": null,
            "_view_module": "@jupyter-widgets/base",
            "_view_module_version": "1.2.0",
            "_view_name": "StyleView",
            "description_width": ""
          }
        },
        "e3e2d716ee9840d48c0c36157828c4ce": {
          "model_module": "@jupyter-widgets/controls",
          "model_name": "HBoxModel",
          "model_module_version": "1.5.0",
          "state": {
            "_dom_classes": [],
            "_model_module": "@jupyter-widgets/controls",
            "_model_module_version": "1.5.0",
            "_model_name": "HBoxModel",
            "_view_count": null,
            "_view_module": "@jupyter-widgets/controls",
            "_view_module_version": "1.5.0",
            "_view_name": "HBoxView",
            "box_style": "",
            "children": [
              "IPY_MODEL_4e07528713e14f6082317d4b95e77ae8",
              "IPY_MODEL_9d0f23eea9294f6b9142d82f8d7f19a7",
              "IPY_MODEL_70391270440f4a08b9941839f0878bd1"
            ],
            "layout": "IPY_MODEL_21e5afca96614f40ab8b615cfbec2516"
          }
        },
        "4e07528713e14f6082317d4b95e77ae8": {
          "model_module": "@jupyter-widgets/controls",
          "model_name": "HTMLModel",
          "model_module_version": "1.5.0",
          "state": {
            "_dom_classes": [],
            "_model_module": "@jupyter-widgets/controls",
            "_model_module_version": "1.5.0",
            "_model_name": "HTMLModel",
            "_view_count": null,
            "_view_module": "@jupyter-widgets/controls",
            "_view_module_version": "1.5.0",
            "_view_name": "HTMLView",
            "description": "",
            "description_tooltip": null,
            "layout": "IPY_MODEL_89137c1749794322be9ecb2630613f8f",
            "placeholder": "​",
            "style": "IPY_MODEL_82b82e8da44d4e269ae28dd7f49e987f",
            "value": "Export report to file: 100%"
          }
        },
        "9d0f23eea9294f6b9142d82f8d7f19a7": {
          "model_module": "@jupyter-widgets/controls",
          "model_name": "FloatProgressModel",
          "model_module_version": "1.5.0",
          "state": {
            "_dom_classes": [],
            "_model_module": "@jupyter-widgets/controls",
            "_model_module_version": "1.5.0",
            "_model_name": "FloatProgressModel",
            "_view_count": null,
            "_view_module": "@jupyter-widgets/controls",
            "_view_module_version": "1.5.0",
            "_view_name": "ProgressView",
            "bar_style": "success",
            "description": "",
            "description_tooltip": null,
            "layout": "IPY_MODEL_341cc60c7fc741f6a83edf10a8545cea",
            "max": 1,
            "min": 0,
            "orientation": "horizontal",
            "style": "IPY_MODEL_995bf0d06afa4c38a815ea5af46c7f9e",
            "value": 1
          }
        },
        "70391270440f4a08b9941839f0878bd1": {
          "model_module": "@jupyter-widgets/controls",
          "model_name": "HTMLModel",
          "model_module_version": "1.5.0",
          "state": {
            "_dom_classes": [],
            "_model_module": "@jupyter-widgets/controls",
            "_model_module_version": "1.5.0",
            "_model_name": "HTMLModel",
            "_view_count": null,
            "_view_module": "@jupyter-widgets/controls",
            "_view_module_version": "1.5.0",
            "_view_name": "HTMLView",
            "description": "",
            "description_tooltip": null,
            "layout": "IPY_MODEL_2e9780996ec04740be7539e838079556",
            "placeholder": "​",
            "style": "IPY_MODEL_9bb1e8460701427ebc810e81fff94710",
            "value": " 1/1 [00:00&lt;00:00, 15.71it/s]"
          }
        },
        "21e5afca96614f40ab8b615cfbec2516": {
          "model_module": "@jupyter-widgets/base",
          "model_name": "LayoutModel",
          "model_module_version": "1.2.0",
          "state": {
            "_model_module": "@jupyter-widgets/base",
            "_model_module_version": "1.2.0",
            "_model_name": "LayoutModel",
            "_view_count": null,
            "_view_module": "@jupyter-widgets/base",
            "_view_module_version": "1.2.0",
            "_view_name": "LayoutView",
            "align_content": null,
            "align_items": null,
            "align_self": null,
            "border": null,
            "bottom": null,
            "display": null,
            "flex": null,
            "flex_flow": null,
            "grid_area": null,
            "grid_auto_columns": null,
            "grid_auto_flow": null,
            "grid_auto_rows": null,
            "grid_column": null,
            "grid_gap": null,
            "grid_row": null,
            "grid_template_areas": null,
            "grid_template_columns": null,
            "grid_template_rows": null,
            "height": null,
            "justify_content": null,
            "justify_items": null,
            "left": null,
            "margin": null,
            "max_height": null,
            "max_width": null,
            "min_height": null,
            "min_width": null,
            "object_fit": null,
            "object_position": null,
            "order": null,
            "overflow": null,
            "overflow_x": null,
            "overflow_y": null,
            "padding": null,
            "right": null,
            "top": null,
            "visibility": null,
            "width": null
          }
        },
        "89137c1749794322be9ecb2630613f8f": {
          "model_module": "@jupyter-widgets/base",
          "model_name": "LayoutModel",
          "model_module_version": "1.2.0",
          "state": {
            "_model_module": "@jupyter-widgets/base",
            "_model_module_version": "1.2.0",
            "_model_name": "LayoutModel",
            "_view_count": null,
            "_view_module": "@jupyter-widgets/base",
            "_view_module_version": "1.2.0",
            "_view_name": "LayoutView",
            "align_content": null,
            "align_items": null,
            "align_self": null,
            "border": null,
            "bottom": null,
            "display": null,
            "flex": null,
            "flex_flow": null,
            "grid_area": null,
            "grid_auto_columns": null,
            "grid_auto_flow": null,
            "grid_auto_rows": null,
            "grid_column": null,
            "grid_gap": null,
            "grid_row": null,
            "grid_template_areas": null,
            "grid_template_columns": null,
            "grid_template_rows": null,
            "height": null,
            "justify_content": null,
            "justify_items": null,
            "left": null,
            "margin": null,
            "max_height": null,
            "max_width": null,
            "min_height": null,
            "min_width": null,
            "object_fit": null,
            "object_position": null,
            "order": null,
            "overflow": null,
            "overflow_x": null,
            "overflow_y": null,
            "padding": null,
            "right": null,
            "top": null,
            "visibility": null,
            "width": null
          }
        },
        "82b82e8da44d4e269ae28dd7f49e987f": {
          "model_module": "@jupyter-widgets/controls",
          "model_name": "DescriptionStyleModel",
          "model_module_version": "1.5.0",
          "state": {
            "_model_module": "@jupyter-widgets/controls",
            "_model_module_version": "1.5.0",
            "_model_name": "DescriptionStyleModel",
            "_view_count": null,
            "_view_module": "@jupyter-widgets/base",
            "_view_module_version": "1.2.0",
            "_view_name": "StyleView",
            "description_width": ""
          }
        },
        "341cc60c7fc741f6a83edf10a8545cea": {
          "model_module": "@jupyter-widgets/base",
          "model_name": "LayoutModel",
          "model_module_version": "1.2.0",
          "state": {
            "_model_module": "@jupyter-widgets/base",
            "_model_module_version": "1.2.0",
            "_model_name": "LayoutModel",
            "_view_count": null,
            "_view_module": "@jupyter-widgets/base",
            "_view_module_version": "1.2.0",
            "_view_name": "LayoutView",
            "align_content": null,
            "align_items": null,
            "align_self": null,
            "border": null,
            "bottom": null,
            "display": null,
            "flex": null,
            "flex_flow": null,
            "grid_area": null,
            "grid_auto_columns": null,
            "grid_auto_flow": null,
            "grid_auto_rows": null,
            "grid_column": null,
            "grid_gap": null,
            "grid_row": null,
            "grid_template_areas": null,
            "grid_template_columns": null,
            "grid_template_rows": null,
            "height": null,
            "justify_content": null,
            "justify_items": null,
            "left": null,
            "margin": null,
            "max_height": null,
            "max_width": null,
            "min_height": null,
            "min_width": null,
            "object_fit": null,
            "object_position": null,
            "order": null,
            "overflow": null,
            "overflow_x": null,
            "overflow_y": null,
            "padding": null,
            "right": null,
            "top": null,
            "visibility": null,
            "width": null
          }
        },
        "995bf0d06afa4c38a815ea5af46c7f9e": {
          "model_module": "@jupyter-widgets/controls",
          "model_name": "ProgressStyleModel",
          "model_module_version": "1.5.0",
          "state": {
            "_model_module": "@jupyter-widgets/controls",
            "_model_module_version": "1.5.0",
            "_model_name": "ProgressStyleModel",
            "_view_count": null,
            "_view_module": "@jupyter-widgets/base",
            "_view_module_version": "1.2.0",
            "_view_name": "StyleView",
            "bar_color": null,
            "description_width": ""
          }
        },
        "2e9780996ec04740be7539e838079556": {
          "model_module": "@jupyter-widgets/base",
          "model_name": "LayoutModel",
          "model_module_version": "1.2.0",
          "state": {
            "_model_module": "@jupyter-widgets/base",
            "_model_module_version": "1.2.0",
            "_model_name": "LayoutModel",
            "_view_count": null,
            "_view_module": "@jupyter-widgets/base",
            "_view_module_version": "1.2.0",
            "_view_name": "LayoutView",
            "align_content": null,
            "align_items": null,
            "align_self": null,
            "border": null,
            "bottom": null,
            "display": null,
            "flex": null,
            "flex_flow": null,
            "grid_area": null,
            "grid_auto_columns": null,
            "grid_auto_flow": null,
            "grid_auto_rows": null,
            "grid_column": null,
            "grid_gap": null,
            "grid_row": null,
            "grid_template_areas": null,
            "grid_template_columns": null,
            "grid_template_rows": null,
            "height": null,
            "justify_content": null,
            "justify_items": null,
            "left": null,
            "margin": null,
            "max_height": null,
            "max_width": null,
            "min_height": null,
            "min_width": null,
            "object_fit": null,
            "object_position": null,
            "order": null,
            "overflow": null,
            "overflow_x": null,
            "overflow_y": null,
            "padding": null,
            "right": null,
            "top": null,
            "visibility": null,
            "width": null
          }
        },
        "9bb1e8460701427ebc810e81fff94710": {
          "model_module": "@jupyter-widgets/controls",
          "model_name": "DescriptionStyleModel",
          "model_module_version": "1.5.0",
          "state": {
            "_model_module": "@jupyter-widgets/controls",
            "_model_module_version": "1.5.0",
            "_model_name": "DescriptionStyleModel",
            "_view_count": null,
            "_view_module": "@jupyter-widgets/base",
            "_view_module_version": "1.2.0",
            "_view_name": "StyleView",
            "description_width": ""
          }
        }
      }
    }
  },
  "nbformat": 4,
  "nbformat_minor": 5
}